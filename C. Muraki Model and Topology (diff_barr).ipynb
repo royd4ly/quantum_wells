{
 "cells": [
  {
   "cell_type": "markdown",
   "id": "db3d20a3",
   "metadata": {},
   "source": [
    "# Import the required libraries <a class=\"anchor\" id=\"import_libraries\"></a>"
   ]
  },
  {
   "cell_type": "code",
   "execution_count": null,
   "id": "66a35896",
   "metadata": {},
   "outputs": [],
   "source": [
    "%matplotlib widget\n",
    "import hyperspy.api as hs\n",
    "import numpy as np\n",
    "import matplotlib.pyplot as plt\n",
    "import atomap.api as am\n",
    "hs.preferences.GUIs.warn_if_guis_are_missing = False\n",
    "hs.preferences.save()\n",
    "plt.rcParams['figure.figsize'] = (7,7)"
   ]
  },
  {
   "cell_type": "markdown",
   "id": "80ca531b",
   "metadata": {},
   "source": [
    "# Muraki model fitting <a class=\"anchor\" id=\"muraki_model_fitting\"></a>\n",
    "First, we load the data:"
   ]
  },
  {
   "cell_type": "code",
   "execution_count": null,
   "id": "345f6650-2d3e-4218-8765-922326939dbe",
   "metadata": {},
   "outputs": [],
   "source": [
    "s=hs.load('data.hspy')\n",
    "intensity_array=np.load('intensity_array.npy')\n",
    "composition_map=np.load('composition_map.npy')\n",
    "avg_intensity=np.mean(composition_map[:,:,0],axis=0)\n",
    "std_dev_intensity=np.std(composition_map[:,:,0],axis=0)\n",
    "avg_axis=np.mean(composition_map[:,:,1],axis=0)*s.axes_manager[0].scale\n",
    "\n",
    "nominal_composition=1"
   ]
  },
  {
   "cell_type": "markdown",
   "id": "e6ce9b46-cff3-48b7-b783-cb3641e7f310",
   "metadata": {},
   "source": [
    "According to the Muraki model, the segregation behaviour can be characterized by the segregation coefficient. Therefore, it is necessary to construct the model, select the region of the quantum well (with the interfaces) and find the optimal parameters for the model."
   ]
  },
  {
   "cell_type": "code",
   "execution_count": null,
   "id": "39310d02-35a0-4649-aac5-b93b3f35460b",
   "metadata": {},
   "outputs": [],
   "source": [
    "plt.figure()\n",
    "plt.plot(np.arange(0,len(avg_intensity)),avg_intensity,'*--')\n",
    "plt.show()"
   ]
  },
  {
   "cell_type": "markdown",
   "id": "10d0638c-c4a3-4970-a0b9-6c326265f8fd",
   "metadata": {},
   "source": [
    "Constructing the Muraki model for one segregation coefficient:"
   ]
  },
  {
   "cell_type": "code",
   "execution_count": null,
   "id": "c0b2ee45",
   "metadata": {},
   "outputs": [],
   "source": [
    "from hyperspy.component import Component\n",
    "class Muraki(Component):\n",
    "    def __init__(self, parameter_1=1, parameter_2=2, parameter_3=3):\n",
    "        Component.__init__(self, ('x0', 's', 'N'))\n",
    "        self.x0.value = nominal_composition\n",
    "        self.s.value = 0.5\n",
    "        self.N.value = 20\n",
    "        self.x0.bmin = 0\n",
    "        self.x0.bmax = 1\n",
    "        self.s.bmin = 0\n",
    "        self.s.bmax = 1\n",
    "        self.N.bmin = 0\n",
    "        self.N.bmax = 50\n",
    "    def function(self, x):\n",
    "        x0 = self.x0.value\n",
    "        s = self.s.value\n",
    "        N = self.N.value\n",
    "        return np.piecewise(x,[((x >= 1.0) & (x<= N)),x > N],[lambda x : x0*(1.0 -s**x), lambda x: x0*(1 -s**x)*s**(x-N)])"
   ]
  },
  {
   "cell_type": "markdown",
   "id": "1b062763-a1c4-47af-8547-d6f3f0f570e8",
   "metadata": {},
   "source": [
    "Constructing the Muraki model for two segregation coefficients:"
   ]
  },
  {
   "cell_type": "code",
   "execution_count": null,
   "id": "0b2ca805-e498-411f-9f41-81a46581c7c9",
   "metadata": {},
   "outputs": [],
   "source": [
    "class Muraki2(Component):\n",
    "    def __init__(self, parameter_1=1, parameter_2=2, parameter_3=3, parameter_4=4):\n",
    "        Component.__init__(self, ('x0', 's1', 's2', 'N'))\n",
    "        self.x0.value = nominal_composition\n",
    "        self.s1.value = 0.5\n",
    "        self.s2.value = 0.5\n",
    "        self.N.value = 20\n",
    "        self.x0.bmin = 0\n",
    "        self.x0.bmax = 1\n",
    "        self.s1.bmin = 0\n",
    "        self.s1.bmax = 1\n",
    "        self.s2.bmin = 0\n",
    "        self.s2.bmax = 1\n",
    "        self.N.bmin = 0\n",
    "        self.N.bmax = 50\n",
    "    def function(self, x):\n",
    "        x0 = self.x0.value\n",
    "        s1 = self.s1.value\n",
    "        s2 = self.s2.value\n",
    "        N = self.N.value\n",
    "        return np.piecewise(x,[((x >= 1.0) & (x<= N)),x > N],[lambda x : x0*(1.0 -s1**x), lambda x: x0*(1 -s2**x)*s2**(x-N)])"
   ]
  },
  {
   "cell_type": "markdown",
   "id": "6a581a45-35af-4a4b-b36a-f53fc5440e06",
   "metadata": {},
   "source": [
    "From the histogram of the average composition plot, we can get the mean value of the barriers and the quantum well (using the two highest peaks of the histogram)."
   ]
  },
  {
   "cell_type": "code",
   "execution_count": null,
   "id": "c32fadca-223e-4c6b-b1d4-d2528d3078de",
   "metadata": {},
   "outputs": [],
   "source": [
    "from scipy.stats import binned_statistic\n",
    "from scipy.signal import find_peaks\n",
    "bins=10\n",
    "count_binned=binned_statistic(avg_intensity,avg_intensity, 'count', bins=bins)\n",
    "bin_centers=(count_binned[1][1:] + count_binned[1][:-1])/2\n",
    "mean_binned=binned_statistic(avg_intensity,avg_intensity, 'mean', bins=bins)\n",
    "peaks, _ = find_peaks(count_binned[0], height=0)\n",
    "pos_peaks_sorted=peaks[np.argsort(count_binned[0][peaks])]\n",
    "max1,max2=np.sort(mean_binned[0][pos_peaks_sorted[-2::]])\n",
    "plt.figure()\n",
    "plt.hist(avg_intensity,bins=count_binned[1],color='lightblue')\n",
    "plt.plot(bin_centers,count_binned[0],'*--')\n",
    "plt.plot(bin_centers[peaks], count_binned[0][peaks], \"D\")\n",
    "plt.show()"
   ]
  },
  {
   "cell_type": "markdown",
   "id": "0f216e99",
   "metadata": {},
   "source": [
    "Then, we select the limits (for the interfaces) considering 5% and the 95% in the interval obtained by the previous mean values (of the quantum well and the barriers)."
   ]
  },
  {
   "cell_type": "code",
   "execution_count": null,
   "id": "c1ca78a9-fff0-41c2-920d-dcd9eba56f5a",
   "metadata": {},
   "outputs": [],
   "source": [
    "b_perc=0.05\n",
    "t_perc=0.95\n",
    "blim=b_perc*(max2-max1)+max1\n",
    "tlim=t_perc*(max2-max1)+max1\n",
    "\n",
    "plt.figure()\n",
    "plt.plot(np.arange(0,len(avg_intensity)),avg_intensity,'*')\n",
    "text1='%d%% : %.3f' % (b_perc*100,blim)\n",
    "text2='%d%% : %.3f' % (t_perc*100,tlim)\n",
    "plt.plot(np.arange(0,len(avg_intensity)),[blim]*len(avg_intensity),linestyle='--',color='red',alpha=0.5,label=text1)\n",
    "plt.plot(np.arange(0,len(avg_intensity)),[tlim]*len(avg_intensity),linestyle='--',color='orange',alpha=0.5,label=text2)\n",
    "plt.xlabel('Layer')\n",
    "plt.ylabel('Average composition')\n",
    "plt.legend()\n",
    "plt.show()"
   ]
  },
  {
   "cell_type": "markdown",
   "id": "fb1571bf-de0b-49b0-9d31-c3a389981475",
   "metadata": {},
   "source": [
    "For the Muraki model fitting, it is selected the mean of the barriers as the limit of the region to fit:"
   ]
  },
  {
   "cell_type": "code",
   "execution_count": null,
   "id": "94a16300-9502-4ed2-847a-8b0e1fbfb06e",
   "metadata": {},
   "outputs": [],
   "source": [
    "positions_l=np.where(avg_intensity>max1)\n",
    "intervals=np.split(positions_l[0], np.where(np.diff(positions_l[0]) != 1)[0]+1)\n",
    "intervals_len = [len(i) for i in intervals]\n",
    "muraki_positions=intervals[np.argmax(np.array(intervals_len))]\n",
    "muraki_signal=avg_intensity[muraki_positions]\n",
    "std_dev=std_dev_intensity[muraki_positions]\n",
    "sc=hs.signals.Signal1D(muraki_signal)\n",
    "sc.axes_manager[0].name = 'Layer'\n",
    "sc.plot()\n",
    "plot=plt.gca()\n",
    "plot.lines[0].set_drawstyle('default')\n",
    "plot.lines[0].set_linestyle('--')\n",
    "plot.lines[0].set_marker('v')\n",
    "plot.lines[0].set_color('blue')"
   ]
  },
  {
   "cell_type": "markdown",
   "id": "06cf9fb7",
   "metadata": {},
   "source": [
    "## Fitting (one segregation coefficient): <a class=\"anchor\" id=\"fitting_1s\"></a>"
   ]
  },
  {
   "cell_type": "markdown",
   "id": "6003f194-6f75-4089-a4eb-bfdd07ffba98",
   "metadata": {},
   "source": [
    "$$x(n) = \\Bigg\\{ \\begin{matrix} x_0(1-S^n): & 1 \\leq n \\leq N \\\\  x_0(1-S^N)S^{n-N}: & n>N \\end{matrix}$$\n",
    "(Kükelhan et al.,2019)"
   ]
  },
  {
   "cell_type": "code",
   "execution_count": null,
   "id": "e34e3b48",
   "metadata": {},
   "outputs": [],
   "source": [
    "muraki_model = sc.create_model()\n",
    "muraki = Muraki()\n",
    "muraki_model.append(muraki)\n",
    "muraki_model.fit()\n",
    "muraki_model.print_current_values()"
   ]
  },
  {
   "cell_type": "markdown",
   "id": "ce427648",
   "metadata": {},
   "source": [
    "Plotting the fitted model and the input data:\n",
    ">For the **`r2_parameter`** calculation is not considered the layer 0."
   ]
  },
  {
   "cell_type": "code",
   "execution_count": null,
   "id": "fe294995-8697-4fa9-901b-3ca2c9324c21",
   "metadata": {},
   "outputs": [],
   "source": [
    "from sklearn.metrics import r2_score\n",
    "def f(x,x0,s,N):\n",
    "    return np.piecewise(x,[((x >= 1.0) & (x<= N)),x > N],[lambda x : x0*(1.0 -s**x), lambda x: x0*(1 -s**x)*s**(x-N)])\n",
    "x=np.arange(0,len(sc.data),dtype=float)\n",
    "y_pred=f(x,muraki.x0.value,muraki.s.value,muraki.N.value)\n",
    "r2_parameter=r2_score(sc.data[1::], y_pred[1::])\n",
    "\n",
    "from matplotlib.offsetbox import AnchoredText\n",
    "plt.figure()\n",
    "plt.errorbar(x,sc.data, yerr=std_dev, ecolor='skyblue',marker=\".\",fmt=':', capsize=3,alpha=0.75)\n",
    "plt.fill_between(x,sc.data-std_dev,sc.data+std_dev, alpha=.25)\n",
    "plt.plot(x,y_pred,color='red')\n",
    "plt.xlabel('Layer')\n",
    "plt.ylabel('Average Composition')\n",
    "plt.minorticks_on()\n",
    "plot=plt.gca()\n",
    "label='$R^2 = $'+str(np.round(r2_parameter,3))\n",
    "at = AnchoredText(label, prop=dict(size=10), frameon=True, loc='upper right')\n",
    "at.patch.set(edgecolor='lightgray')\n",
    "at.patch.set_boxstyle(\"round,pad=0.,rounding_size=0.1\")\n",
    "plot.add_artist(at)\n",
    "plt.show()\n",
    "\n",
    "plt.figure()\n",
    "plt.plot(avg_axis[np.arange(0,len(avg_intensity))],avg_intensity,'*--')\n",
    "plt.plot(avg_axis[x.astype(int)+muraki_positions[0]],y_pred,'-',color='red')\n",
    "plt.xlabel('Position [nm]')\n",
    "plt.ylabel('Average Composition')\n",
    "plt.minorticks_on()\n",
    "plt.show()"
   ]
  },
  {
   "cell_type": "markdown",
   "id": "b213a1b0-817e-4f1c-bab0-62c9b1e1bf1d",
   "metadata": {},
   "source": [
    "## Fitting (two segregation coefficients):: <a class=\"anchor\" id=\"fitting_2s\"></a>"
   ]
  },
  {
   "cell_type": "markdown",
   "id": "662d4df4-7511-4845-ba7f-b8691c2fbf95",
   "metadata": {},
   "source": [
    "$$x(n) = \\Bigg\\{ \\begin{matrix} x_0(1-S^n_{l}): & 1 \\leq n \\leq N \\\\  x_0(1-S^N_l)S^{n-N}_u: & n>N \\end{matrix}$$\n",
    "(Kükelhan et al.,2019)"
   ]
  },
  {
   "cell_type": "code",
   "execution_count": null,
   "id": "8725507f-b502-4980-b7e6-307571507966",
   "metadata": {},
   "outputs": [],
   "source": [
    "muraki_model = sc.create_model()\n",
    "muraki = Muraki2()\n",
    "muraki_model.append(muraki)\n",
    "muraki_model.fit()\n",
    "muraki_model.print_current_values()"
   ]
  },
  {
   "cell_type": "markdown",
   "id": "13de3a1c-05d3-4a7b-b003-f2c69aabeaaf",
   "metadata": {},
   "source": [
    "Plotting the fitted model and the input data:\n",
    ">For the **`r2_parameter`** calculation is not considered the layer 0."
   ]
  },
  {
   "cell_type": "code",
   "execution_count": null,
   "id": "181301c9-163a-403e-99ba-33a2a1f58295",
   "metadata": {},
   "outputs": [],
   "source": [
    "from sklearn.metrics import r2_score\n",
    "def f(x,x0,s1,s2,N):\n",
    "    return np.piecewise(x,[((x >= 1.0) & (x<= N)),x > N],[lambda x : x0*(1.0 -s1**x), lambda x: x0*(1 -s2**x)*s2**(x-N)])\n",
    "x=np.arange(0,len(sc.data),dtype=float)\n",
    "y_pred=f(x,muraki.x0.value,muraki.s1.value,muraki.s2.value,muraki.N.value)\n",
    "r2_parameter=r2_score(sc.data[1::], y_pred[1::])\n",
    "\n",
    "plt.figure()\n",
    "plt.errorbar(x,sc.data, yerr=std_dev, ecolor='skyblue',marker=\".\",fmt=':', capsize=3,alpha=0.75)\n",
    "plt.fill_between(x,sc.data-std_dev,sc.data+std_dev, alpha=.25)\n",
    "plt.plot(x,y_pred,color='red')\n",
    "plt.xlabel('Layer')\n",
    "plt.ylabel('Average Composition')\n",
    "plt.minorticks_on()\n",
    "plot=plt.gca()\n",
    "label='$R^2 = $'+str(np.round(r2_parameter,3))\n",
    "at = AnchoredText(label, prop=dict(size=10), frameon=True, loc='upper right')\n",
    "at.patch.set(edgecolor='lightgray')\n",
    "at.patch.set_boxstyle(\"round,pad=0.,rounding_size=0.1\")\n",
    "plot.add_artist(at)\n",
    "plt.show()\n",
    "\n",
    "plt.figure()\n",
    "plt.plot(avg_axis[np.arange(0,len(avg_intensity))],avg_intensity,'*--')\n",
    "plt.plot(avg_axis[x.astype(int)+muraki_positions[0]],y_pred,'-',color='red')\n",
    "plt.xlabel('Position [nm]')\n",
    "plt.ylabel('Average Composition')\n",
    "plt.minorticks_on()\n",
    "plt.show()"
   ]
  },
  {
   "cell_type": "markdown",
   "id": "324a80e3-9924-40f8-8e60-df9da9947980",
   "metadata": {},
   "source": [
    "# Topology of the interfaces <a class=\"anchor\" id=\"topology\"></a>\n",
    "\n",
    "To see how is the topology of the bottom and top interface, we take the interfaces contained in the previous limits."
   ]
  },
  {
   "cell_type": "code",
   "execution_count": null,
   "id": "b369f45b-5b49-4797-a47f-f5b20fb4e69c",
   "metadata": {},
   "outputs": [],
   "source": [
    "positions_int=np.where((avg_intensity>max1) & (avg_intensity<max2))\n",
    "intervals=np.split(positions_int[0], np.where(np.diff(positions_int[0]) != 1)[0]+1)\n",
    "intervals_len = [len(i) for i in intervals]\n",
    "bottom,top=intervals[np.argsort(np.array(intervals_len))[-2::][0]],intervals[np.argsort(np.array(intervals_len))[-2::][1]]\n",
    "b1,b2=bottom[0],bottom[-1]\n",
    "t1,t2=top[0],top[-1]"
   ]
  },
  {
   "cell_type": "markdown",
   "id": "59d32771-3504-4d02-b083-578d53cf64b4",
   "metadata": {},
   "source": [
    "Next, the interfaces are plotted and highlighted in the composition map:"
   ]
  },
  {
   "cell_type": "code",
   "execution_count": null,
   "id": "7ca5c028-ea0d-45c2-986e-2e3a7eace83c",
   "metadata": {},
   "outputs": [],
   "source": [
    "interfaces=np.zeros_like(composition_map[:,:,0])\n",
    "interfaces[:]=np.nan\n",
    "interfaces[:,b1:b2+1]=composition_map[:,b1:b2+1,0]\n",
    "interfaces[:,t1:t2+1]=composition_map[:,t1:t2+1,0]\n",
    "non_interface=np.copy(composition_map[:,:,0])\n",
    "non_interface[:,b1:b2+1]=np.nan\n",
    "non_interface[:,t1:t2+1]=np.nan\n",
    "\n",
    "plt.figure()\n",
    "plt.scatter(composition_map[:,:,1],composition_map[:,:,2],s=20,c=interfaces,cmap='jet')\n",
    "plt.colorbar()\n",
    "plt.scatter(composition_map[:,:,1],composition_map[:,:,2],s=20,c=non_interface,cmap='gray')\n",
    "plt.axis('scaled')\n",
    "plt.axis('off')\n",
    "ax=plt.gca()\n",
    "ax.set_ylim(ax.get_ylim()[::-1]) \n",
    "ax.xaxis.tick_top() \n",
    "ax.yaxis.tick_left()\n",
    "#plt.imshow(s.data,cmap='gray')\n",
    "plt.tight_layout()\n",
    "plt.show()"
   ]
  },
  {
   "cell_type": "markdown",
   "id": "bb909063-be85-4c2c-b2b0-1e58887f519b",
   "metadata": {},
   "source": [
    "Finally, we average the interfaces along the growth direction to see the topology:"
   ]
  },
  {
   "cell_type": "code",
   "execution_count": null,
   "id": "15fc41f1-a003-4ab3-81b7-9a8739eb25ae",
   "metadata": {},
   "outputs": [],
   "source": [
    "bottom_interface=np.mean(composition_map[:,b1:b2+1,0],axis=1)\n",
    "bottom_std=np.std(composition_map[:,b1:b2+1,0],axis=1)\n",
    "top_interface=np.mean(composition_map[:,t1:t2+1,0],axis=1)\n",
    "top_std=np.std(composition_map[:,t1:t2+1,0],axis=1)\n",
    "\n",
    "fig, (ax1, ax2) = plt.subplots(2, 1)\n",
    "ax1.errorbar(np.arange(0,len(bottom_interface)),bottom_interface, yerr=bottom_std, ecolor='skyblue',marker='.',fmt=':', capsize=3,alpha=0.75)\n",
    "ax1.fill_between(np.arange(0,len(bottom_interface)),bottom_interface-bottom_std,bottom_interface+bottom_std, alpha=.25)\n",
    "ax1.plot(np.arange(0,len(bottom_interface)),[np.mean(bottom_interface)]*len(bottom_interface),linestyle='--',color='red',alpha=0.5)\n",
    "#ax1.plot(np.arange(0,len(bottom_interface)),bottom_interface,'*--')\n",
    "ax1.set(xlabel='Layer',ylabel='Average Composition')\n",
    "ax1.set_title('Bottom Interface')\n",
    "ax1.minorticks_on()\n",
    "ax2.errorbar(np.arange(0,len(top_interface)),top_interface, yerr=top_std, ecolor='skyblue',marker='.',fmt=':', capsize=3,alpha=0.75)\n",
    "ax2.fill_between(np.arange(0,len(top_interface)),top_interface-top_std,top_interface+top_std, alpha=.25)\n",
    "ax2.plot(np.arange(0,len(top_interface)),[np.mean(top_interface)]*len(top_interface),linestyle='--',color='red',alpha=0.5)\n",
    "#ax2.plot(np.arange(0,len(top_interface)),top_interface,'*--')\n",
    "ax2.set(xlabel='Layer',ylabel='Average Composition')\n",
    "ax2.set_title('Top Interface')\n",
    "ax2.minorticks_on()\n",
    "fig.tight_layout()\n",
    "plt.show()\n",
    "\n",
    "ssd=np.std(bottom_interface)\n",
    "# cv=ssd/np.mean(bottom_interface)*100\n",
    "print('\\033[1m' + 'Metrics for the bottom interface:' + '\\033[0m')\n",
    "print('The mean of the plot is '+ str(np.round(np.mean(bottom_interface),4))+' of the composition')\n",
    "print('The standard deviation is '+ str(np.round(ssd,4))+' of the composition')\n",
    "ssd=np.std(top_interface)\n",
    "# cv=ssd/np.mean(top_interface)*100\n",
    "print('\\n\\033[1m' + 'Metrics for the top interface:' + '\\033[0m')\n",
    "print('The mean of the plot is '+ str(np.round(np.mean(top_interface),4))+' of the composition')\n",
    "print('The standard deviation is '+ str(np.round(ssd,4))+' of the composition')"
   ]
  },
  {
   "cell_type": "markdown",
   "id": "88e90dfc-4e73-4b20-981e-5420f8f97d63",
   "metadata": {},
   "source": [
    "## Topology of the original image <a class=\"anchor\" id=\"topology_orig\"></a>\n",
    "\n",
    "We can use the same limits (converted to position in nanometers) to find the topology of the interfaces but in the original image.\n",
    ">The original image does not show the composition, it only shows the intensity normalized to the impinging beam."
   ]
  },
  {
   "cell_type": "code",
   "execution_count": null,
   "id": "9129735c-8f3b-4c96-895e-94e9b44ab8fc",
   "metadata": {},
   "outputs": [],
   "source": [
    "bottom_interface_pos=s.axes_manager[0].scale*np.mean(composition_map[:,b1-1:b2+2,1],axis=0)\n",
    "top_interface_pos=s.axes_manager[0].scale*np.mean(composition_map[:,t1-1:t2+2,1],axis=0)\n",
    "left_b=bottom_interface_pos[0]\n",
    "right_b=bottom_interface_pos[-1]\n",
    "left_t=top_interface_pos[0]\n",
    "right_t=top_interface_pos[-1]\n",
    "\n",
    "x_new=intensity_array[:,:,1]*s.axes_manager[0].scale\n",
    "y_new=intensity_array[:,:,2]*s.axes_manager[1].scale\n",
    "intensity_n=np.stack((intensity_array[:,:,0],x_new,y_new),axis=2)\n",
    "d1,d2,d3=intensity_n.shape"
   ]
  },
  {
   "cell_type": "markdown",
   "id": "48324eb9-addb-4415-9f2c-72205ab4227d",
   "metadata": {},
   "source": [
    "Finding the bottom interface:"
   ]
  },
  {
   "cell_type": "code",
   "execution_count": null,
   "id": "b6368ec4-c227-4bb7-b72d-0b7f8b7d19df",
   "metadata": {},
   "outputs": [],
   "source": [
    "intensity_left=[]\n",
    "x_left=[]\n",
    "y_left=[]\n",
    "for i in range(0,d1):\n",
    "    i_l=intensity_n[i,:,0][np.where((left_b<intensity_n[i,:,1])&(intensity_n[i,:,1]<right_b))].tolist()\n",
    "    x_l=intensity_n[i,:,1][np.where((left_b<intensity_n[i,:,1])&(intensity_n[i,:,1]<right_b))].tolist()\n",
    "    y_l=intensity_n[i,:,2][np.where((left_b<intensity_n[i,:,1])&(intensity_n[i,:,1]<right_b))].tolist()\n",
    "    intensity_left.append(i_l)\n",
    "    x_left.append(x_l)\n",
    "    y_left.append(y_l)\n",
    "    \n",
    "intensity_i_array = np.zeros([len(intensity_left),len(max(intensity_left,key = lambda x: len(x)))])\n",
    "intensity_i_array[:] = np.nan\n",
    "for i,j in enumerate(intensity_left):\n",
    "    intensity_i_array[i][0:len(j)] = j\n",
    "\n",
    "x_values_array = np.zeros([len(x_left),len(max(x_left,key = lambda x: len(x)))])\n",
    "x_values_array[:] = np.nan\n",
    "for i,j in enumerate(x_left):\n",
    "    x_values_array[i][0:len(j)] = j\n",
    "\n",
    "y_values_array = np.zeros([len(y_left),len(max(y_left,key = lambda x: len(x)))])\n",
    "y_values_array[:] = np.nan\n",
    "for i,j in enumerate(y_left):\n",
    "    y_values_array[i][0:len(j)] = j\n",
    "    \n",
    "intensity_array_left=np.stack((intensity_i_array,x_values_array,y_values_array),axis=2)"
   ]
  },
  {
   "cell_type": "markdown",
   "id": "02a8f828-778f-4a84-b9e5-05c790a64156",
   "metadata": {},
   "source": [
    "Same for the top interface:"
   ]
  },
  {
   "cell_type": "code",
   "execution_count": null,
   "id": "18916bb8-cc23-40bd-9739-8d4eb65eba9e",
   "metadata": {},
   "outputs": [],
   "source": [
    "intensity_right=[]\n",
    "x_right=[]\n",
    "y_right=[]\n",
    "for i in range(0,d1):\n",
    "    i_r=intensity_n[i,:,0][np.where((left_t<intensity_n[i,:,1])&(intensity_n[i,:,1]<right_t))].tolist()\n",
    "    x_r=intensity_n[i,:,1][np.where((left_t<intensity_n[i,:,1])&(intensity_n[i,:,1]<right_t))].tolist()\n",
    "    y_r=intensity_n[i,:,2][np.where((left_t<intensity_n[i,:,1])&(intensity_n[i,:,1]<right_t))].tolist()\n",
    "    intensity_right.append(i_r)\n",
    "    x_right.append(x_r)\n",
    "    y_right.append(y_r)\n",
    "    \n",
    "intensity_i_array = np.zeros([len(intensity_right),len(max(intensity_right,key = lambda x: len(x)))])\n",
    "intensity_i_array[:] = np.nan\n",
    "for i,j in enumerate(intensity_right):\n",
    "    intensity_i_array[i][0:len(j)] = j\n",
    "\n",
    "x_values_array = np.zeros([len(x_right),len(max(x_right,key = lambda x: len(x)))])\n",
    "x_values_array[:] = np.nan\n",
    "for i,j in enumerate(x_right):\n",
    "    x_values_array[i][0:len(j)] = j\n",
    "\n",
    "y_values_array = np.zeros([len(y_right),len(max(y_right,key = lambda x: len(x)))])\n",
    "y_values_array[:] = np.nan\n",
    "for i,j in enumerate(y_right):\n",
    "    y_values_array[i][0:len(j)] = j\n",
    "    \n",
    "intensity_array_right=np.stack((intensity_i_array,x_values_array,y_values_array),axis=2)"
   ]
  },
  {
   "cell_type": "markdown",
   "id": "57b3c4d4-ac1f-4c49-b594-4766102a08d9",
   "metadata": {},
   "source": [
    "Plotting:"
   ]
  },
  {
   "cell_type": "code",
   "execution_count": null,
   "id": "975b91cf-37d5-4a12-82e8-e25983026619",
   "metadata": {},
   "outputs": [],
   "source": [
    "s.plot(axes_off=True,scalebar=False)\n",
    "plt.scatter(intensity_array_left[:,:,1],intensity_array_left[:,:,2],s=6,c=intensity_array_left[:,:,0],cmap='jet')\n",
    "plt.scatter(intensity_array_right[:,:,1],intensity_array_right[:,:,2],s=6,c=intensity_array_right[:,:,0],cmap='jet')\n",
    "plt.axis('scaled')\n",
    "plt.axis('off')\n",
    "ax=plt.gca()\n",
    "ax.xaxis.tick_top() \n",
    "ax.yaxis.tick_left()\n",
    "plt.tight_layout()\n",
    "plt.show()"
   ]
  },
  {
   "cell_type": "markdown",
   "id": "8cebc6fb-906a-4469-9678-4a4a3732aacf",
   "metadata": {},
   "source": [
    "Finally, we average the interfaces along the growth direction to see the topology:"
   ]
  },
  {
   "cell_type": "code",
   "execution_count": null,
   "id": "de83fd9a-b736-4902-80b2-377b6f4fcdd4",
   "metadata": {},
   "outputs": [],
   "source": [
    "avg_intensity_b=np.nanmean(intensity_array_left[:,:,0],axis=1)\n",
    "std_b=np.nanstd(intensity_array_left[:,:,0],axis=1)\n",
    "avg_axis_b=np.nanmean(intensity_array_left[:,:,2],axis=1)\n",
    "avg_intensity_t=np.nanmean(intensity_array_right[:,:,0],axis=1)\n",
    "std_t=np.nanstd(intensity_array_right[:,:,0],axis=1)\n",
    "avg_axis_t=np.nanmean(intensity_array_right[:,:,2],axis=1)\n",
    "\n",
    "fig, (ax1, ax2) = plt.subplots(2, 1)\n",
    "ax1.errorbar(avg_axis_b,avg_intensity_b, yerr=std_b, ecolor='skyblue',marker='.',fmt=':', capsize=3,alpha=0.75)\n",
    "ax1.fill_between(avg_axis_b,avg_intensity_b-std_b,avg_intensity_b+std_b, alpha=.25)\n",
    "ax1.plot(avg_axis_b,[np.mean(avg_intensity_b)]*len(avg_axis_b),linestyle='--',color='red',alpha=0.5)\n",
    "#ax1.plot(avg_axis_b,avg_intensity_b,'*--')\n",
    "ax1.set(xlabel='Position [nm]',ylabel='Average intensity')\n",
    "ax1.set_title('Bottom Interface')\n",
    "ax1.minorticks_on()\n",
    "ax2.errorbar(avg_axis_t,avg_intensity_t, yerr=std_t, ecolor='skyblue',marker='.',fmt=':', capsize=3,alpha=0.75)\n",
    "ax2.fill_between(avg_axis_t,avg_intensity_t-std_t,avg_intensity_t+std_t, alpha=.25)\n",
    "ax2.plot(avg_axis_t,[np.mean(avg_intensity_t)]*len(avg_axis_t),linestyle='--',color='red',alpha=0.5)\n",
    "#ax2.plot(avg_axis_t,avg_intensity_t,'*--')\n",
    "ax2.set(xlabel='Position [nm]',ylabel='Average intensity')\n",
    "ax2.set_title('Top Interface')\n",
    "ax2.minorticks_on()\n",
    "fig.tight_layout()\n",
    "plt.show()\n",
    "\n",
    "ssd=np.std(avg_intensity_b)\n",
    "# cv=ssd/np.mean(avg_intensity_b)*100\n",
    "print('\\033[1m' + 'Metrics for the bottom interface:' + '\\033[0m')\n",
    "print('The mean of the plot is '+ str(np.round(np.mean(avg_intensity_b),4))+' of the intensity')\n",
    "print('The Standard Deviation is '+ str(np.round(ssd,4))+' of the intensity')\n",
    "ssd=np.std(avg_intensity_t)\n",
    "# cv=ssd/np.mean(avg_intensity_t)*100\n",
    "print('\\n\\033[1m' + 'Metrics for the top interface:' + '\\033[0m')\n",
    "print('The mean of the plot is '+ str(np.round(np.mean(avg_intensity_t),4))+' of the intensity')\n",
    "print('The Standard Deviation is '+ str(np.round(ssd,4))+' of the intensity')"
   ]
  },
  {
   "cell_type": "markdown",
   "id": "867f6bd9-bd12-4dc7-b7f2-1170465ea504",
   "metadata": {},
   "source": [
    "---\n",
    "\n",
    "Kükelhan, P., Firoozabadi, S., Beyer, A., Duschek, L., Fuchs, C., Oelerich, J. O., Stolz, W., &amp; Volz, K. (2019). Segregation at interfaces in (GaIn)As/Ga(AsSb)/(GaIn)As- quantum well heterostructures explored by atomic resolution stem. Journal of Crystal Growth, 524, 125180. https://doi.org/10.1016/j.jcrysgro.2019.125180 "
   ]
  }
 ],
 "metadata": {
  "kernelspec": {
   "display_name": "Python 3 (ipykernel)",
   "language": "python",
   "name": "python3"
  },
  "language_info": {
   "codemirror_mode": {
    "name": "ipython",
    "version": 3
   },
   "file_extension": ".py",
   "mimetype": "text/x-python",
   "name": "python",
   "nbconvert_exporter": "python",
   "pygments_lexer": "ipython3",
   "version": "3.9.12"
  },
  "toc-autonumbering": false,
  "toc-showcode": false,
  "toc-showmarkdowntxt": false,
  "toc-showtags": false,
  "widgets": {
   "application/vnd.jupyter.widget-state+json": {
    "state": {},
    "version_major": 2,
    "version_minor": 0
   }
  }
 },
 "nbformat": 4,
 "nbformat_minor": 5
}
