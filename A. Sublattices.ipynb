{
 "cells": [
  {
   "cell_type": "markdown",
   "id": "db3d20a3",
   "metadata": {},
   "source": [
    "# Import the required libraries <a class=\"anchor\" id=\"import_libraries\"></a>"
   ]
  },
  {
   "cell_type": "code",
   "execution_count": null,
   "id": "66a35896",
   "metadata": {
    "tags": []
   },
   "outputs": [],
   "source": [
    "%matplotlib widget\n",
    "import hyperspy.api as hs\n",
    "import numpy as np\n",
    "import matplotlib.pyplot as plt\n",
    "import atomap.api as am\n",
    "hs.preferences.GUIs.warn_if_guis_are_missing = False\n",
    "hs.preferences.save()\n",
    "plt.rcParams['figure.figsize'] = (7,7)"
   ]
  },
  {
   "cell_type": "markdown",
   "id": "3155fb17",
   "metadata": {},
   "source": [
    "# Open the file <a class=\"anchor\" id=\"open_file\"></a>\n",
    "The file needs to be at the same directory as the notebook.\n",
    "\n",
    "Supported formats:\n",
    "- .dm3\n",
    "- .dm4\n",
    "- .tif\n",
    "- .jpg\n",
    "- .png\n",
    "-https://hyperspy.readthedocs.io/en/stable/user_guide/io.html#supported-formats"
   ]
  },
  {
   "cell_type": "code",
   "execution_count": null,
   "id": "7cee9ad3",
   "metadata": {},
   "outputs": [],
   "source": [
    "s=hs.load('qw1.dm4')\n",
    "s.plot()\n",
    "s"
   ]
  },
  {
   "cell_type": "markdown",
   "id": "7293f2a0",
   "metadata": {},
   "source": [
    "## Axes scaling (pixel distance) <a class=\"anchor\" id=\"pixel_distance\"></a>\n",
    "<p style='text-align: right;'> $Optional$ </p>\n",
    "\n",
    "It is not necessary to set the scale and center of the image because the processing uses the size in pixels but it is recommended to get a better visualization (.dm3 and .dm4 import settings, so it is not necessary the scale).\n",
    "\n",
    "To uncomment the cell select the text and press **`Ctrl + /`**\n",
    "> **`y_size_nm`**: height of the image in nanometers.\n",
    "<br>\n",
    "    >The width of the image in nanometers is not necessary because an aspect ratio of 1 is assumed.\n",
    "    <br>\n",
    "> **`x_offset_nm/y_offset_nm`**: origin in nanometers."
   ]
  },
  {
   "cell_type": "code",
   "execution_count": null,
   "id": "3a9088de",
   "metadata": {},
   "outputs": [],
   "source": [
    "# y_size_nm = 10\n",
    "# x_offset_nm = 0\n",
    "# y_offset_nm = 0\n",
    "\n",
    "# s.axes_manager[0].name = 'X'\n",
    "# s.axes_manager[1].name = 'Y'\n",
    "# img_scale = y_size_nm/s.data.shape[0]\n",
    "# s.axes_manager['X'].scale = img_scale\n",
    "# s.axes_manager['Y'].scale = img_scale\n",
    "# s.axes_manager['X'].units = 'nm'\n",
    "# s.axes_manager['Y'].units = 'nm'\n",
    "# s.axes_manager['X'].offset = x_offset_nm\n",
    "# s.axes_manager['Y'].offset = y_offset_nm\n",
    "# s.metadata.General.title = 'Quantum Well'\n",
    "# s.plot()"
   ]
  },
  {
   "cell_type": "markdown",
   "id": "2263dabe",
   "metadata": {},
   "source": [
    "## Intensity scaling (pixel intensity) <a class=\"anchor\" id=\"pixel_intensity\"></a>\n",
    "<p style='text-align: right;'> $Optional$ </p>\n",
    "\n",
    "If the image has been previously normalized to the impinging beam but the imported image has not the correct scale, we can normalize it with the minimum and maximum values.\n",
    "<br>\n",
    "To uncomment the cell select the text and press **`Ctrl + /`**"
   ]
  },
  {
   "cell_type": "code",
   "execution_count": null,
   "id": "b6c82669",
   "metadata": {},
   "outputs": [],
   "source": [
    "# min_intensity=0.055\n",
    "# max_intensity=0.099\n",
    "\n",
    "# s.data=s.data=s.data.astype('float32')\n",
    "# s.data=s.data-np.min(s.data)\n",
    "# s.data=s.data*(max_intensity-min_intensity)/np.max(s.data)\n",
    "# s.data=s.data+min_intensity\n",
    "# s.plot()"
   ]
  },
  {
   "cell_type": "markdown",
   "id": "ed6c8002",
   "metadata": {},
   "source": [
    "### Normalization between 0 and 1\n",
    "<p style='text-align: right;'> $Optional$ </p>\n",
    "\n",
    "If we don't have the image normalized to the impinging beam, we still can process the image but with a relative scale between 0 and 1.\n",
    "<br>\n",
    "To uncomment the cell select the text and press **`Ctrl + /`**"
   ]
  },
  {
   "cell_type": "code",
   "execution_count": null,
   "id": "30ca292b",
   "metadata": {},
   "outputs": [],
   "source": [
    "# from atomap.atom_finding_refining import normalize_signal\n",
    "# axes_scale=s.axes_manager\n",
    "# s = normalize_signal(s)\n",
    "# s.axes_manager=axes_scale\n",
    "# s.plot()"
   ]
  },
  {
   "cell_type": "markdown",
   "id": "a1396b7b",
   "metadata": {},
   "source": [
    "# Get the sublattices <a class=\"anchor\" id=\"sublattices\"></a>\n",
    "\n",
    "Atomap allow us to obtain each sublattice based on the intensity and the separation of the atom columns, so it is hard to select the III or V sublattice due to the intensity variation along the quantum well. Therefore, in this specific case (III/V semiconductors) we can select all the atom columns and then sort the odd (first sublattice) and even (second sublattice) layers in an specific direction."
   ]
  },
  {
   "cell_type": "markdown",
   "id": "84a0f248",
   "metadata": {},
   "source": [
    "## Step 1: Get the whole lattice <a class=\"anchor\" id=\"sublattices_s1\"></a>\n",
    "\n",
    "Varying **`optimal_separation`**  we can see how could be the recognized lattice (or sublattice). This function uses the peak finding algorithm, so the brighter regions (atom columns) are recognized."
   ]
  },
  {
   "cell_type": "code",
   "execution_count": null,
   "id": "7d78aa18",
   "metadata": {},
   "outputs": [],
   "source": [
    "optimal_separation=4\n",
    "\n",
    "atom_positions = am.get_atom_positions(s, optimal_separation,pca=True)\n",
    "sublattice = am.Sublattice(atom_positions, s)\n",
    "sublattice.get_atom_list_on_image(markersize=10).plot()\n",
    "ax = plt.gca()\n",
    "ax.get_xaxis().set_visible(False)\n",
    "ax.get_yaxis().set_visible(False)"
   ]
  },
  {
   "cell_type": "markdown",
   "id": "51fb92b8",
   "metadata": {},
   "source": [
    "Once we have found the optimal separation we can add or remove the missing atom columns with the **`add_atoms_with_gui`** function. Just click on the atom to add or remove."
   ]
  },
  {
   "cell_type": "code",
   "execution_count": null,
   "id": "37ad81f6",
   "metadata": {},
   "outputs": [],
   "source": [
    "atom_positions_new = am.add_atoms_with_gui(s, atom_positions)"
   ]
  },
  {
   "cell_type": "markdown",
   "id": "2328df33",
   "metadata": {},
   "source": [
    "With the intensity peaks found, we proceed to get the whole lattice (size and position of every atom column) using refinement functions."
   ]
  },
  {
   "cell_type": "code",
   "execution_count": null,
   "id": "28fe8ac8",
   "metadata": {},
   "outputs": [],
   "source": [
    "sublattice = am.Sublattice(atom_positions_new, s)\n",
    "sublattice.find_nearest_neighbors()\n",
    "sublattice.refine_atom_positions_using_center_of_mass()\n",
    "sublattice.refine_atom_positions_using_2d_gaussian()\n",
    "sublattice"
   ]
  },
  {
   "cell_type": "markdown",
   "id": "a45e154b",
   "metadata": {},
   "source": [
    "Plotting:"
   ]
  },
  {
   "cell_type": "code",
   "execution_count": null,
   "id": "5b5132a4",
   "metadata": {},
   "outputs": [],
   "source": [
    "sublattice.plot(markersize=10)\n",
    "ax = plt.gca()\n",
    "ax.get_xaxis().set_visible(False)\n",
    "ax.get_yaxis().set_visible(False)"
   ]
  },
  {
   "cell_type": "markdown",
   "id": "3d0a0028",
   "metadata": {},
   "source": [
    "## Step 2: Separate into III and V sublattices <a class=\"anchor\" id=\"sublattices_s2\"></a>\n",
    "\n",
    "In order to separate the two sublattices, we need to select the odd and even layers in a certain direction. This direction is chosen in agreement with the corresponding zone axis.\n",
    "\n",
    "First, the zone axes are constructed:"
   ]
  },
  {
   "cell_type": "code",
   "execution_count": null,
   "id": "1261268f",
   "metadata": {},
   "outputs": [],
   "source": [
    "sublattice.construct_zone_axes(atom_plane_tolerance=0.8)"
   ]
  },
  {
   "cell_type": "markdown",
   "id": "5aec738a",
   "metadata": {},
   "source": [
    "To select the optimal zone axis, the parameter **`direction`** is varied until the optimum is found."
   ]
  },
  {
   "cell_type": "code",
   "execution_count": null,
   "id": "89bdb650",
   "metadata": {},
   "outputs": [],
   "source": [
    "direction=3\n",
    "\n",
    "zone_vector = sublattice.zones_axis_average_distances[direction]\n",
    "atom_planes = sublattice.atom_planes_by_zone_vector[zone_vector]\n",
    "zone_axis = sublattice.get_atom_planes_on_image(atom_planes)\n",
    "zone_axis.plot()\n",
    "ax = plt.gca()\n",
    "ax.get_xaxis().set_visible(False)\n",
    "ax.get_yaxis().set_visible(False)"
   ]
  },
  {
   "cell_type": "markdown",
   "id": "b2918679",
   "metadata": {},
   "source": [
    "Once the optimal zone axis has been found, the planes are classified into odd and even layers. Next, we construct two lists with the atom column positions of the two sublattices."
   ]
  },
  {
   "cell_type": "code",
   "execution_count": null,
   "id": "9e07ed2a",
   "metadata": {},
   "outputs": [],
   "source": [
    "zone_axis = sublattice.zones_axis_average_distances[direction]\n",
    "atom_plane_list = sublattice.atom_planes_by_zone_vector[zone_axis]\n",
    "odd_i = [] ; even_i = []\n",
    "\n",
    "for i in range(0, len(atom_plane_list)):\n",
    "    if i % 2:\n",
    "        even_i.append(atom_plane_list[i])\n",
    "    else :\n",
    "        odd_i.append(atom_plane_list[i])\n",
    "        \n",
    "x=[] ; y=[]\n",
    "for i in range(0, len(odd_i)):\n",
    "    x=x+odd_i[i].x_position\n",
    "    y=y+odd_i[i].y_position\n",
    "atom_pos_odd=np.stack((np.array(x),np.array(y)),axis=1) #atom positions of the odd layers\n",
    "x=[];y=[]\n",
    "for i in range(0, len(even_i)):\n",
    "    x=x+even_i[i].x_position\n",
    "    y=y+even_i[i].y_position\n",
    "atom_pos_even=np.stack((np.array(x),np.array(y)),axis=1) #atom positions of the even layers"
   ]
  },
  {
   "cell_type": "markdown",
   "id": "f4d867a9",
   "metadata": {},
   "source": [
    "Finally, with the atom column positions, the two sublattices are constructed and refined."
   ]
  },
  {
   "cell_type": "code",
   "execution_count": null,
   "id": "b0020efc",
   "metadata": {
    "scrolled": true
   },
   "outputs": [],
   "source": [
    "sublattice_A = am.Sublattice(atom_pos_odd, image=s)\n",
    "sublattice_B = am.Sublattice(atom_pos_even, image=s,color='blue')\n",
    "sublattice_A.find_nearest_neighbors()\n",
    "sublattice_A.refine_atom_positions_using_center_of_mass()\n",
    "sublattice_A.refine_atom_positions_using_2d_gaussian()\n",
    "sublattice_B.find_nearest_neighbors()\n",
    "sublattice_B.refine_atom_positions_using_center_of_mass()\n",
    "sublattice_B.refine_atom_positions_using_2d_gaussian()"
   ]
  },
  {
   "cell_type": "markdown",
   "id": "093eaba8",
   "metadata": {},
   "source": [
    "Plotting:"
   ]
  },
  {
   "cell_type": "code",
   "execution_count": null,
   "id": "7c4f920d",
   "metadata": {},
   "outputs": [],
   "source": [
    "atom_lattice = am.Atom_Lattice(s, name='quantum_well', sublattice_list=[sublattice_A, sublattice_B])\n",
    "atom_lattice.plot(markersize=10)\n",
    "ax = plt.gca()\n",
    "ax.get_xaxis().set_visible(False)\n",
    "ax.get_yaxis().set_visible(False)"
   ]
  },
  {
   "cell_type": "markdown",
   "id": "31222b93",
   "metadata": {},
   "source": [
    "Before  obtaining the intensity maps, we can save the atom lattice in a .hdf5 file:"
   ]
  },
  {
   "cell_type": "code",
   "execution_count": null,
   "id": "aeb4b01c",
   "metadata": {},
   "outputs": [],
   "source": [
    "s.save('data.hspy', overwrite=True)\n",
    "atom_lattice.save('atom_lattice_qw.hdf5', overwrite=True)"
   ]
  }
 ],
 "metadata": {
  "kernelspec": {
   "display_name": "Python 3 (ipykernel)",
   "language": "python",
   "name": "python3"
  },
  "language_info": {
   "codemirror_mode": {
    "name": "ipython",
    "version": 3
   },
   "file_extension": ".py",
   "mimetype": "text/x-python",
   "name": "python",
   "nbconvert_exporter": "python",
   "pygments_lexer": "ipython3",
   "version": "3.9.7"
  },
  "toc-autonumbering": false,
  "toc-showcode": false,
  "toc-showmarkdowntxt": false,
  "toc-showtags": false,
  "widgets": {
   "application/vnd.jupyter.widget-state+json": {
    "state": {},
    "version_major": 2,
    "version_minor": 0
   }
  }
 },
 "nbformat": 4,
 "nbformat_minor": 5
}
