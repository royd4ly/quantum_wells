{
 "cells": [
  {
   "cell_type": "markdown",
   "id": "db3d20a3",
   "metadata": {},
   "source": [
    "# Import the required libraries <a class=\"anchor\" id=\"import_libraries\"></a>"
   ]
  },
  {
   "cell_type": "code",
   "execution_count": null,
   "id": "66a35896",
   "metadata": {
    "tags": []
   },
   "outputs": [],
   "source": [
    "%matplotlib widget\n",
    "import hyperspy.api as hs\n",
    "import numpy as np\n",
    "import matplotlib.pyplot as plt\n",
    "import atomap.api as am\n",
    "hs.preferences.GUIs.warn_if_guis_are_missing = False\n",
    "hs.preferences.save()\n",
    "plt.rcParams['figure.figsize'] = (7,7)"
   ]
  },
  {
   "cell_type": "markdown",
   "id": "3155fb17",
   "metadata": {},
   "source": [
    "# Open the file <a class=\"anchor\" id=\"open_file\"></a>\n",
    "The file needs to be at the same directory as the notebook.\n",
    "\n",
    "Supported formats:\n",
    "- .dm3\n",
    "- .dm4\n",
    "- .tif\n",
    "- .jpg\n",
    "- .png\n",
    "-https://hyperspy.readthedocs.io/en/stable/user_guide/io.html#supported-formats"
   ]
  },
  {
   "cell_type": "code",
   "execution_count": null,
   "id": "7cee9ad3",
   "metadata": {},
   "outputs": [],
   "source": [
    "s=hs.load('qw1.dm4')\n",
    "s.plot()\n",
    "s"
   ]
  },
  {
   "cell_type": "markdown",
   "id": "7293f2a0",
   "metadata": {},
   "source": [
    "## Axes scaling (pixel distance) <a class=\"anchor\" id=\"pixel_distance\"></a>\n",
    "<p style='text-align: right;'> $Optional$ </p>\n",
    "\n",
    "It is not necessary to set the scale and center of the image because the processing uses the size in pixels but it is recommended to get a better visualization (.dm3 and .dm4 import settings, so it is not necessary the scale).\n",
    "\n",
    "To uncomment the cell select the text and press **`Ctrl + /`**\n",
    "> **`y_size_nm`**: height of the image in nanometers.\n",
    "<br>\n",
    "    >The width of the image in nanometers is not necessary because an aspect ratio of 1 is assumed.\n",
    "    <br>\n",
    "> **`x_offset_nm/y_offset_nm`**: origin in nanometers."
   ]
  },
  {
   "cell_type": "code",
   "execution_count": null,
   "id": "3a9088de",
   "metadata": {},
   "outputs": [],
   "source": [
    "# y_size_nm = 10\n",
    "# x_offset_nm = 0\n",
    "# y_offset_nm = 0\n",
    "\n",
    "# s.axes_manager[0].name = 'X'\n",
    "# s.axes_manager[1].name = 'Y'\n",
    "# img_scale = y_size_nm/s.data.shape[0]\n",
    "# s.axes_manager['X'].scale = img_scale\n",
    "# s.axes_manager['Y'].scale = img_scale\n",
    "# s.axes_manager['X'].units = 'nm'\n",
    "# s.axes_manager['Y'].units = 'nm'\n",
    "# s.axes_manager['X'].offset = x_offset_nm\n",
    "# s.axes_manager['Y'].offset = y_offset_nm\n",
    "# s.metadata.General.title = 'Quantum Well'\n",
    "# s.plot()"
   ]
  },
  {
   "cell_type": "markdown",
   "id": "2263dabe",
   "metadata": {},
   "source": [
    "## Intensity scaling (pixel intensity) <a class=\"anchor\" id=\"pixel_intensity\"></a>\n",
    "<p style='text-align: right;'> $Optional$ </p>\n",
    "\n",
    "If the image has been previously normalized to the impinging beam but the imported image has not the correct scale, we can normalize it with the minimum and maximum values.\n",
    "<br>\n",
    "To uncomment the cell select the text and press **`Ctrl + /`**"
   ]
  },
  {
   "cell_type": "code",
   "execution_count": null,
   "id": "b6c82669",
   "metadata": {},
   "outputs": [],
   "source": [
    "# min_intensity=0.055\n",
    "# max_intensity=0.099\n",
    "\n",
    "# s.data=s.data=s.data.astype('float32')\n",
    "# s.data=s.data-np.min(s.data)\n",
    "# s.data=s.data*(max_intensity-min_intensity)/np.max(s.data)\n",
    "# s.data=s.data+min_intensity\n",
    "# s.plot()"
   ]
  },
  {
   "cell_type": "markdown",
   "id": "ed6c8002",
   "metadata": {},
   "source": [
    "### Normalization between 0 and 1\n",
    "<p style='text-align: right;'> $Optional$ </p>\n",
    "\n",
    "If we don't have the image normalized to the impinging beam, we still can process the image but with a relative scale between 0 and 1.\n",
    "<br>\n",
    "To uncomment the cell select the text and press **`Ctrl + /`**"
   ]
  },
  {
   "cell_type": "code",
   "execution_count": null,
   "id": "30ca292b",
   "metadata": {},
   "outputs": [],
   "source": [
    "# from atomap.atom_finding_refining import normalize_signal\n",
    "# axes_scale=s.axes_manager\n",
    "# s = normalize_signal(s)\n",
    "# s.axes_manager=axes_scale\n",
    "# s.plot()"
   ]
  },
  {
   "cell_type": "markdown",
   "id": "a1396b7b",
   "metadata": {},
   "source": [
    "# Get the sublattices <a class=\"anchor\" id=\"sublattices\"></a>\n",
    "\n",
    "Atomap allow us to obtain each sublattice based on the intensity and the separation of the atom columns, so it is hard to select the III or V sublattice due to the intensity variation along the quantum well. Therefore, in this specific case (III/V semiconductors) we can select all the atom columns and then sort the odd (first sublattice) and even (second sublattice) layers in an specific direction."
   ]
  },
  {
   "cell_type": "markdown",
   "id": "84a0f248",
   "metadata": {},
   "source": [
    "## Step 1: Get the whole lattice <a class=\"anchor\" id=\"sublattices_s1\"></a>\n",
    "\n",
    "Varying **`optimal_separation`**  we can see how could be the recognized lattice (or sublattice). This function uses the peak finding algorithm, so the brighter regions (atom columns) are recognized."
   ]
  },
  {
   "cell_type": "code",
   "execution_count": null,
   "id": "7d78aa18",
   "metadata": {},
   "outputs": [],
   "source": [
    "optimal_separation=4\n",
    "\n",
    "atom_positions = am.get_atom_positions(s, optimal_separation,pca=True)\n",
    "sublattice = am.Sublattice(atom_positions, s)\n",
    "sublattice.get_atom_list_on_image(markersize=10).plot()\n",
    "ax = plt.gca()\n",
    "ax.get_xaxis().set_visible(False)\n",
    "ax.get_yaxis().set_visible(False)"
   ]
  },
  {
   "cell_type": "markdown",
   "id": "51fb92b8",
   "metadata": {},
   "source": [
    "Once we have found the optimal separation we can add or remove the missing atom columns with the **`add_atoms_with_gui`** function. Just click on the atom to add or remove."
   ]
  },
  {
   "cell_type": "code",
   "execution_count": null,
   "id": "37ad81f6",
   "metadata": {},
   "outputs": [],
   "source": [
    "atom_positions_new = am.add_atoms_with_gui(s, atom_positions)"
   ]
  },
  {
   "cell_type": "markdown",
   "id": "2328df33",
   "metadata": {},
   "source": [
    "With the intensity peaks found, we proceed to get the whole lattice (size and position of every atom column) using refinement functions."
   ]
  },
  {
   "cell_type": "code",
   "execution_count": null,
   "id": "28fe8ac8",
   "metadata": {},
   "outputs": [],
   "source": [
    "sublattice = am.Sublattice(atom_positions_new, s)\n",
    "sublattice.find_nearest_neighbors()\n",
    "sublattice.refine_atom_positions_using_center_of_mass()\n",
    "sublattice.refine_atom_positions_using_2d_gaussian()\n",
    "sublattice"
   ]
  },
  {
   "cell_type": "markdown",
   "id": "a45e154b",
   "metadata": {},
   "source": [
    "Plotting:"
   ]
  },
  {
   "cell_type": "code",
   "execution_count": null,
   "id": "5b5132a4",
   "metadata": {},
   "outputs": [],
   "source": [
    "sublattice.plot(markersize=10)\n",
    "ax = plt.gca()\n",
    "ax.get_xaxis().set_visible(False)\n",
    "ax.get_yaxis().set_visible(False)"
   ]
  },
  {
   "cell_type": "markdown",
   "id": "3d0a0028",
   "metadata": {},
   "source": [
    "## Step 2: Separate into III and V sublattices <a class=\"anchor\" id=\"sublattices_s2\"></a>\n",
    "\n",
    "In order to separate the two sublattices, we need to select the odd and even layers in a certain direction. This direction is chosen in agreement with the corresponding zone axis.\n",
    "\n",
    "First, the zone axes are constructed:"
   ]
  },
  {
   "cell_type": "code",
   "execution_count": null,
   "id": "1261268f",
   "metadata": {},
   "outputs": [],
   "source": [
    "sublattice.construct_zone_axes(atom_plane_tolerance=0.8)"
   ]
  },
  {
   "cell_type": "markdown",
   "id": "5aec738a",
   "metadata": {},
   "source": [
    "To select the optimal zone axis, the parameter **`direction`** is varied until the optimum is found."
   ]
  },
  {
   "cell_type": "code",
   "execution_count": null,
   "id": "89bdb650",
   "metadata": {},
   "outputs": [],
   "source": [
    "direction=3\n",
    "\n",
    "zone_vector = sublattice.zones_axis_average_distances[direction]\n",
    "atom_planes = sublattice.atom_planes_by_zone_vector[zone_vector]\n",
    "zone_axis = sublattice.get_atom_planes_on_image(atom_planes)\n",
    "zone_axis.plot()\n",
    "ax = plt.gca()\n",
    "ax.get_xaxis().set_visible(False)\n",
    "ax.get_yaxis().set_visible(False)"
   ]
  },
  {
   "cell_type": "markdown",
   "id": "b2918679",
   "metadata": {},
   "source": [
    "Once the optimal zone axis has been found, the planes are classified into odd and even layers. Next, we construct two lists with the atom column positions of the two sublattices."
   ]
  },
  {
   "cell_type": "code",
   "execution_count": null,
   "id": "9e07ed2a",
   "metadata": {},
   "outputs": [],
   "source": [
    "zone_axis = sublattice.zones_axis_average_distances[direction]\n",
    "atom_plane_list = sublattice.atom_planes_by_zone_vector[zone_axis]\n",
    "odd_i = [] ; even_i = []\n",
    "\n",
    "for i in range(0, len(atom_plane_list)):\n",
    "    if i % 2:\n",
    "        even_i.append(atom_plane_list[i])\n",
    "    else :\n",
    "        odd_i.append(atom_plane_list[i])\n",
    "        \n",
    "x=[] ; y=[]\n",
    "for i in range(0, len(odd_i)):\n",
    "    x=x+odd_i[i].x_position\n",
    "    y=y+odd_i[i].y_position\n",
    "atom_pos_odd=np.stack((np.array(x),np.array(y)),axis=1) #atom positions of the odd layers\n",
    "x=[];y=[]\n",
    "for i in range(0, len(even_i)):\n",
    "    x=x+even_i[i].x_position\n",
    "    y=y+even_i[i].y_position\n",
    "atom_pos_even=np.stack((np.array(x),np.array(y)),axis=1) #atom positions of the even layers"
   ]
  },
  {
   "cell_type": "markdown",
   "id": "f4d867a9",
   "metadata": {},
   "source": [
    "Finally, with the atom column positions, the two sublattices are constructed and refined."
   ]
  },
  {
   "cell_type": "code",
   "execution_count": null,
   "id": "b0020efc",
   "metadata": {
    "scrolled": true
   },
   "outputs": [],
   "source": [
    "sublattice_A = am.Sublattice(atom_pos_odd, image=s)\n",
    "sublattice_B = am.Sublattice(atom_pos_even, image=s,color='blue')\n",
    "sublattice_A.find_nearest_neighbors()\n",
    "sublattice_A.refine_atom_positions_using_center_of_mass()\n",
    "sublattice_A.refine_atom_positions_using_2d_gaussian()\n",
    "sublattice_B.find_nearest_neighbors()\n",
    "sublattice_B.refine_atom_positions_using_center_of_mass()\n",
    "sublattice_B.refine_atom_positions_using_2d_gaussian()"
   ]
  },
  {
   "cell_type": "markdown",
   "id": "093eaba8",
   "metadata": {},
   "source": [
    "Plotting:"
   ]
  },
  {
   "cell_type": "code",
   "execution_count": null,
   "id": "7c4f920d",
   "metadata": {},
   "outputs": [],
   "source": [
    "atom_lattice = am.Atom_Lattice(s, name='quantum_well', sublattice_list=[sublattice_A, sublattice_B])\n",
    "atom_lattice.plot(markersize=10)\n",
    "ax = plt.gca()\n",
    "ax.get_xaxis().set_visible(False)\n",
    "ax.get_yaxis().set_visible(False)"
   ]
  },
  {
   "cell_type": "markdown",
   "id": "31222b93",
   "metadata": {},
   "source": [
    "Before  obtaining the intensity maps, we can save the atom lattice in a .hdf5 file:"
   ]
  },
  {
   "cell_type": "code",
   "execution_count": null,
   "id": "aeb4b01c",
   "metadata": {},
   "outputs": [],
   "source": [
    "s.save('data.hspy')\n",
    "atom_lattice.save('atom_lattice_qw.hdf5', overwrite=True)"
   ]
  }
 ],
 "metadata": {
  "kernelspec": {
   "display_name": "Python 3 (ipykernel)",
   "language": "python",
   "name": "python3"
  },
  "language_info": {
   "codemirror_mode": {
    "name": "ipython",
    "version": 3
   },
   "file_extension": ".py",
   "mimetype": "text/x-python",
   "name": "python",
   "nbconvert_exporter": "python",
   "pygments_lexer": "ipython3",
   "version": "3.9.7"
  },
  "toc-autonumbering": false,
  "toc-showcode": false,
  "toc-showmarkdowntxt": false,
  "toc-showtags": false,
  "widgets": {
   "application/vnd.jupyter.widget-state+json": {
    "state": {
     "026b1c1925d64822a0abcd8e940bcab5": {
      "model_module": "@jupyter-widgets/base",
      "model_module_version": "1.2.0",
      "model_name": "LayoutModel",
      "state": {}
     },
     "06970e1df8b541a88c74ec8ad384cd8b": {
      "model_module": "@jupyter-widgets/controls",
      "model_module_version": "1.5.0",
      "model_name": "FloatProgressModel",
      "state": {
       "bar_style": "success",
       "layout": "IPY_MODEL_026b1c1925d64822a0abcd8e940bcab5",
       "max": 4779,
       "style": "IPY_MODEL_aed905b4c49445d28f70663bfd0ccb57",
       "value": 4779
      }
     },
     "0818ae5f19ac40b98c320c0202556e32": {
      "model_module": "@jupyter-widgets/base",
      "model_module_version": "1.2.0",
      "model_name": "LayoutModel",
      "state": {
       "display": "flex",
       "flex_flow": "row",
       "justify_content": "space-between"
      }
     },
     "0c76ef69a86542b6b074dcee6585cccf": {
      "model_module": "@jupyter-widgets/controls",
      "model_module_version": "1.5.0",
      "model_name": "DescriptionStyleModel",
      "state": {
       "description_width": ""
      }
     },
     "0c822cf1a56742b5a851d75f4cb16910": {
      "model_module": "@jupyter-widgets/base",
      "model_module_version": "1.2.0",
      "model_name": "LayoutModel",
      "state": {}
     },
     "1629cb71384e49c096b2b0d921b85ce1": {
      "model_module": "@jupyter-widgets/base",
      "model_module_version": "1.2.0",
      "model_name": "LayoutModel",
      "state": {}
     },
     "186ed55c493d4d59ab54da7c6dfd24a4": {
      "model_module": "@jupyter-widgets/base",
      "model_module_version": "1.2.0",
      "model_name": "LayoutModel",
      "state": {}
     },
     "1bd9d913702a4091a6556a71a0d853c6": {
      "model_module": "jupyter-matplotlib",
      "model_module_version": "^0.10.5",
      "model_name": "ToolbarModel",
      "state": {
       "collapsed": true,
       "layout": "IPY_MODEL_1d66baa41033413e98bf4b2d1399187a",
       "orientation": "vertical",
       "toolitems": [
        [
         "Home",
         "Reset original view",
         "home",
         "home"
        ],
        [
         "Back",
         "Back to previous view",
         "arrow-left",
         "back"
        ],
        [
         "Forward",
         "Forward to next view",
         "arrow-right",
         "forward"
        ],
        [
         "Pan",
         "Left button pans, Right button zooms\nx/y fixes axis, CTRL fixes aspect",
         "arrows",
         "pan"
        ],
        [
         "Zoom",
         "Zoom to rectangle\nx/y fixes axis, CTRL fixes aspect",
         "square-o",
         "zoom"
        ],
        [
         "Download",
         "Download plot",
         "floppy-o",
         "save_figure"
        ]
       ]
      }
     },
     "1d66baa41033413e98bf4b2d1399187a": {
      "model_module": "@jupyter-widgets/base",
      "model_module_version": "1.2.0",
      "model_name": "LayoutModel",
      "state": {}
     },
     "1f9f5575e90c4a24ad8329727aefaf2b": {
      "model_module": "@jupyter-widgets/base",
      "model_module_version": "1.2.0",
      "model_name": "LayoutModel",
      "state": {}
     },
     "21bc9894508248a38344bdbc6bd76f1b": {
      "model_module": "jupyter-matplotlib",
      "model_module_version": "^0.10.5",
      "model_name": "ToolbarModel",
      "state": {
       "collapsed": true,
       "layout": "IPY_MODEL_4ee02f1c5dce4e3ea3c603bc06086c46",
       "orientation": "vertical",
       "toolitems": [
        [
         "Home",
         "Reset original view",
         "home",
         "home"
        ],
        [
         "Back",
         "Back to previous view",
         "arrow-left",
         "back"
        ],
        [
         "Forward",
         "Forward to next view",
         "arrow-right",
         "forward"
        ],
        [
         "Pan",
         "Left button pans, Right button zooms\nx/y fixes axis, CTRL fixes aspect",
         "arrows",
         "pan"
        ],
        [
         "Zoom",
         "Zoom to rectangle\nx/y fixes axis, CTRL fixes aspect",
         "square-o",
         "zoom"
        ],
        [
         "Download",
         "Download plot",
         "floppy-o",
         "save_figure"
        ]
       ]
      }
     },
     "2544a52e094a487c882fe39244357809": {
      "model_module": "@jupyter-widgets/controls",
      "model_module_version": "1.5.0",
      "model_name": "ProgressStyleModel",
      "state": {
       "description_width": ""
      }
     },
     "260232d8e385490f807c530c564001ad": {
      "model_module": "@jupyter-widgets/controls",
      "model_module_version": "1.5.0",
      "model_name": "HTMLModel",
      "state": {
       "layout": "IPY_MODEL_27e8e25abe8f4f7dbf441f75f6983362",
       "style": "IPY_MODEL_b49580d73a1a411e90107ff8b09956db",
       "value": " 2360/2360 [01:22&lt;00:00, 30.27it/s]"
      }
     },
     "27e8e25abe8f4f7dbf441f75f6983362": {
      "model_module": "@jupyter-widgets/base",
      "model_module_version": "1.2.0",
      "model_name": "LayoutModel",
      "state": {}
     },
     "2df6a4e3fd1742cfb21d295542875875": {
      "model_module": "jupyter-matplotlib",
      "model_module_version": "^0.10.5",
      "model_name": "ToolbarModel",
      "state": {
       "collapsed": true,
       "layout": "IPY_MODEL_4f28462425c7437d8df7310e9a144c49",
       "orientation": "vertical",
       "toolitems": [
        [
         "Home",
         "Reset original view",
         "home",
         "home"
        ],
        [
         "Back",
         "Back to previous view",
         "arrow-left",
         "back"
        ],
        [
         "Forward",
         "Forward to next view",
         "arrow-right",
         "forward"
        ],
        [
         "Pan",
         "Left button pans, Right button zooms\nx/y fixes axis, CTRL fixes aspect",
         "arrows",
         "pan"
        ],
        [
         "Zoom",
         "Zoom to rectangle\nx/y fixes axis, CTRL fixes aspect",
         "square-o",
         "zoom"
        ],
        [
         "Download",
         "Download plot",
         "floppy-o",
         "save_figure"
        ]
       ]
      }
     },
     "2fe61cb30935452e9afe7dee1ee33b9f": {
      "model_module": "@jupyter-widgets/base",
      "model_module_version": "1.2.0",
      "model_name": "LayoutModel",
      "state": {}
     },
     "308b541ba6ee47f095e458bb3aa47970": {
      "model_module": "@jupyter-widgets/controls",
      "model_module_version": "1.5.0",
      "model_name": "HTMLModel",
      "state": {
       "layout": "IPY_MODEL_53444fd87b674cdeb68af7f751bfbf5c",
       "style": "IPY_MODEL_948a0a608a034f9bb89b08f7cae7de17",
       "value": "Gaussian fitting: 100%"
      }
     },
     "34aaa4e89c364b98b71ed91b4a60e09b": {
      "model_module": "@jupyter-widgets/controls",
      "model_module_version": "1.5.0",
      "model_name": "HBoxModel",
      "state": {
       "children": [
        "IPY_MODEL_cee669e092014af586498b2ee998e35a",
        "IPY_MODEL_a157b43136304973bd3f937baa39c386",
        "IPY_MODEL_aaea5cc0ccf84a4d951ff62b50c497a6"
       ],
       "layout": "IPY_MODEL_98d1926c40194f429fb03a137cd0914f"
      }
     },
     "34d3a08f09ba4a978b132c06f3c0fdf3": {
      "model_module": "@jupyter-widgets/base",
      "model_module_version": "1.2.0",
      "model_name": "LayoutModel",
      "state": {}
     },
     "3bc915d237f945148179c73f62b97f77": {
      "model_module": "jupyter-matplotlib",
      "model_module_version": "^0.10.5",
      "model_name": "ToolbarModel",
      "state": {
       "collapsed": true,
       "layout": "IPY_MODEL_c7f5b0f19e5344ec9954628eae750081",
       "orientation": "vertical",
       "toolitems": [
        [
         "Home",
         "Reset original view",
         "home",
         "home"
        ],
        [
         "Back",
         "Back to previous view",
         "arrow-left",
         "back"
        ],
        [
         "Forward",
         "Forward to next view",
         "arrow-right",
         "forward"
        ],
        [
         "Pan",
         "Left button pans, Right button zooms\nx/y fixes axis, CTRL fixes aspect",
         "arrows",
         "pan"
        ],
        [
         "Zoom",
         "Zoom to rectangle\nx/y fixes axis, CTRL fixes aspect",
         "square-o",
         "zoom"
        ],
        [
         "Download",
         "Download plot",
         "floppy-o",
         "save_figure"
        ]
       ]
      }
     },
     "43a47273bfde4f30bc67a3986188a548": {
      "model_module": "@jupyter-widgets/base",
      "model_module_version": "1.2.0",
      "model_name": "LayoutModel",
      "state": {}
     },
     "49d840531cb14495bd7983b696eefa12": {
      "model_module": "@jupyter-widgets/controls",
      "model_module_version": "1.5.0",
      "model_name": "DescriptionStyleModel",
      "state": {
       "description_width": ""
      }
     },
     "4c710fd296204878b75b5d05428d35e3": {
      "model_module": "@jupyter-widgets/base",
      "model_module_version": "1.2.0",
      "model_name": "LayoutModel",
      "state": {}
     },
     "4ce726e11d374f93a87bf5aa5f9c3083": {
      "model_module": "@jupyter-widgets/base",
      "model_module_version": "1.2.0",
      "model_name": "LayoutModel",
      "state": {}
     },
     "4ee02f1c5dce4e3ea3c603bc06086c46": {
      "model_module": "@jupyter-widgets/base",
      "model_module_version": "1.2.0",
      "model_name": "LayoutModel",
      "state": {}
     },
     "4f28462425c7437d8df7310e9a144c49": {
      "model_module": "@jupyter-widgets/base",
      "model_module_version": "1.2.0",
      "model_name": "LayoutModel",
      "state": {}
     },
     "4f3b395b91894bcbb2c25ace0f3c04f6": {
      "model_module": "@jupyter-widgets/controls",
      "model_module_version": "1.5.0",
      "model_name": "HTMLModel",
      "state": {
       "layout": "IPY_MODEL_d8b4817e2cdc400b94bc37c887a23c46",
       "style": "IPY_MODEL_c291f1a90f744796ab9ebbeb436837fa",
       "value": "Center of mass: 100%"
      }
     },
     "51622867a5534e4f8c82f7e3a9b79afd": {
      "model_module": "@jupyter-widgets/controls",
      "model_module_version": "1.5.0",
      "model_name": "HTMLModel",
      "state": {
       "layout": "IPY_MODEL_1f9f5575e90c4a24ad8329727aefaf2b",
       "style": "IPY_MODEL_8db1791640424fafa0e00048fa14efa5",
       "value": " 4779/4779 [00:00&lt;00:00, 7190.81it/s]"
      }
     },
     "53444fd87b674cdeb68af7f751bfbf5c": {
      "model_module": "@jupyter-widgets/base",
      "model_module_version": "1.2.0",
      "model_name": "LayoutModel",
      "state": {}
     },
     "5447f167aec944ab9bdb672f4f4cf3cb": {
      "model_module": "@jupyter-widgets/base",
      "model_module_version": "1.2.0",
      "model_name": "LayoutModel",
      "state": {}
     },
     "5989b93aa07e48839ac1e896f5e15d40": {
      "model_module": "@jupyter-widgets/base",
      "model_module_version": "1.2.0",
      "model_name": "LayoutModel",
      "state": {}
     },
     "5cb65554c2db4047a7651a463a2e5a33": {
      "model_module": "@jupyter-widgets/base",
      "model_module_version": "1.2.0",
      "model_name": "LayoutModel",
      "state": {}
     },
     "5db0527cbba44b058e83065c7078bbf0": {
      "model_module": "@jupyter-widgets/base",
      "model_module_version": "1.2.0",
      "model_name": "LayoutModel",
      "state": {}
     },
     "5e1a8621fbee4be595e0d19bee37c010": {
      "model_module": "@jupyter-widgets/controls",
      "model_module_version": "1.5.0",
      "model_name": "HBoxModel",
      "state": {
       "children": [
        "IPY_MODEL_7eafc05c36214c10a84d183fb9aa8f21",
        "IPY_MODEL_908bd4639f8d454caa725556757db1f4",
        "IPY_MODEL_7109179f14894d72b3053f0c02ec5f48"
       ],
       "layout": "IPY_MODEL_fe7b2be0775c45fba2d723c251457d3e"
      }
     },
     "616133e297ce474b801289a7bee63f74": {
      "model_module": "@jupyter-widgets/base",
      "model_module_version": "1.2.0",
      "model_name": "LayoutModel",
      "state": {}
     },
     "634068752a1e44afaebb96e500f3b5c6": {
      "model_module": "@jupyter-widgets/base",
      "model_module_version": "1.2.0",
      "model_name": "LayoutModel",
      "state": {}
     },
     "6517bead97064221af722a728d52500c": {
      "model_module": "@jupyter-widgets/controls",
      "model_module_version": "1.5.0",
      "model_name": "ProgressStyleModel",
      "state": {
       "description_width": ""
      }
     },
     "6aba26d0e4f64ae3af634ef0502088fc": {
      "model_module": "@jupyter-widgets/controls",
      "model_module_version": "1.5.0",
      "model_name": "ProgressStyleModel",
      "state": {
       "description_width": ""
      }
     },
     "6f1a8854cb5f47a29bd3cbe636f2ca9f": {
      "model_module": "jupyter-matplotlib",
      "model_module_version": "^0.10.5",
      "model_name": "ToolbarModel",
      "state": {
       "collapsed": true,
       "layout": "IPY_MODEL_5447f167aec944ab9bdb672f4f4cf3cb",
       "orientation": "vertical",
       "toolitems": [
        [
         "Home",
         "Reset original view",
         "home",
         "home"
        ],
        [
         "Back",
         "Back to previous view",
         "arrow-left",
         "back"
        ],
        [
         "Forward",
         "Forward to next view",
         "arrow-right",
         "forward"
        ],
        [
         "Pan",
         "Left button pans, Right button zooms\nx/y fixes axis, CTRL fixes aspect",
         "arrows",
         "pan"
        ],
        [
         "Zoom",
         "Zoom to rectangle\nx/y fixes axis, CTRL fixes aspect",
         "square-o",
         "zoom"
        ],
        [
         "Download",
         "Download plot",
         "floppy-o",
         "save_figure"
        ]
       ]
      }
     },
     "7109179f14894d72b3053f0c02ec5f48": {
      "model_module": "@jupyter-widgets/controls",
      "model_module_version": "1.5.0",
      "model_name": "HTMLModel",
      "state": {
       "layout": "IPY_MODEL_34d3a08f09ba4a978b132c06f3c0fdf3",
       "style": "IPY_MODEL_76f48e66d67a41028158c4af068771e4",
       "value": " 2360/2360 [00:00&lt;00:00, 6312.53it/s]"
      }
     },
     "71c8dc79a81743ac83ebed277fbb747a": {
      "model_module": "@jupyter-widgets/controls",
      "model_module_version": "1.5.0",
      "model_name": "HTMLModel",
      "state": {
       "layout": "IPY_MODEL_cd9dfac85da148fea116a9cc72470da3",
       "style": "IPY_MODEL_49d840531cb14495bd7983b696eefa12",
       "value": " 2419/2419 [01:30&lt;00:00, 29.73it/s]"
      }
     },
     "76f48e66d67a41028158c4af068771e4": {
      "model_module": "@jupyter-widgets/controls",
      "model_module_version": "1.5.0",
      "model_name": "DescriptionStyleModel",
      "state": {
       "description_width": ""
      }
     },
     "7a12307a774a43f288a95fe1dc405310": {
      "model_module": "@jupyter-widgets/base",
      "model_module_version": "1.2.0",
      "model_name": "LayoutModel",
      "state": {}
     },
     "7b156118a42840088551fa8573ec9915": {
      "model_module": "@jupyter-widgets/controls",
      "model_module_version": "1.5.0",
      "model_name": "HTMLModel",
      "state": {
       "layout": "IPY_MODEL_5cb65554c2db4047a7651a463a2e5a33",
       "style": "IPY_MODEL_0c76ef69a86542b6b074dcee6585cccf",
       "value": "Gaussian fitting: 100%"
      }
     },
     "7ba4e38fc74d4be58af0d1bc5d34384f": {
      "model_module": "jupyter-matplotlib",
      "model_module_version": "^0.10.5",
      "model_name": "ToolbarModel",
      "state": {
       "collapsed": true,
       "layout": "IPY_MODEL_fa4da00a8d0c4272b2a3f6f52c9bfa0d",
       "orientation": "vertical",
       "toolitems": [
        [
         "Home",
         "Reset original view",
         "home",
         "home"
        ],
        [
         "Back",
         "Back to previous view",
         "arrow-left",
         "back"
        ],
        [
         "Forward",
         "Forward to next view",
         "arrow-right",
         "forward"
        ],
        [
         "Pan",
         "Left button pans, Right button zooms\nx/y fixes axis, CTRL fixes aspect",
         "arrows",
         "pan"
        ],
        [
         "Zoom",
         "Zoom to rectangle\nx/y fixes axis, CTRL fixes aspect",
         "square-o",
         "zoom"
        ],
        [
         "Download",
         "Download plot",
         "floppy-o",
         "save_figure"
        ]
       ]
      }
     },
     "7eafc05c36214c10a84d183fb9aa8f21": {
      "model_module": "@jupyter-widgets/controls",
      "model_module_version": "1.5.0",
      "model_name": "HTMLModel",
      "state": {
       "layout": "IPY_MODEL_5db0527cbba44b058e83065c7078bbf0",
       "style": "IPY_MODEL_88392ebc7a57497e81e264e5375725eb",
       "value": "Center of mass: 100%"
      }
     },
     "81118a8f778a4f3db53e57e974e61d1f": {
      "model_module": "@jupyter-widgets/base",
      "model_module_version": "1.2.0",
      "model_name": "LayoutModel",
      "state": {}
     },
     "813ce244646a400094d46ef294812fb3": {
      "model_module": "@jupyter-widgets/controls",
      "model_module_version": "1.5.0",
      "model_name": "DescriptionStyleModel",
      "state": {
       "description_width": ""
      }
     },
     "81b7e462f66f4f37938a4c805a4b8429": {
      "model_module": "jupyter-matplotlib",
      "model_module_version": "^0.10.5",
      "model_name": "ToolbarModel",
      "state": {
       "collapsed": true,
       "layout": "IPY_MODEL_5989b93aa07e48839ac1e896f5e15d40",
       "orientation": "vertical",
       "toolitems": [
        [
         "Home",
         "Reset original view",
         "home",
         "home"
        ],
        [
         "Back",
         "Back to previous view",
         "arrow-left",
         "back"
        ],
        [
         "Forward",
         "Forward to next view",
         "arrow-right",
         "forward"
        ],
        [
         "Pan",
         "Left button pans, Right button zooms\nx/y fixes axis, CTRL fixes aspect",
         "arrows",
         "pan"
        ],
        [
         "Zoom",
         "Zoom to rectangle\nx/y fixes axis, CTRL fixes aspect",
         "square-o",
         "zoom"
        ],
        [
         "Download",
         "Download plot",
         "floppy-o",
         "save_figure"
        ]
       ]
      }
     },
     "83906e47ecba4385b829f4804fc6331e": {
      "model_module": "@jupyter-widgets/controls",
      "model_module_version": "1.5.0",
      "model_name": "HBoxModel",
      "state": {
       "children": [
        "IPY_MODEL_4f3b395b91894bcbb2c25ace0f3c04f6",
        "IPY_MODEL_b7afaace4ece4734a483eb08716f3ed0",
        "IPY_MODEL_ff9517838e914552818971971daad7b7"
       ],
       "layout": "IPY_MODEL_dac47ecc911f40348e7d0325579a9679"
      }
     },
     "88392ebc7a57497e81e264e5375725eb": {
      "model_module": "@jupyter-widgets/controls",
      "model_module_version": "1.5.0",
      "model_name": "DescriptionStyleModel",
      "state": {
       "description_width": ""
      }
     },
     "8c663445216b45139baa148ce8b33a7f": {
      "model_module": "jupyter-matplotlib",
      "model_module_version": "^0.10.5",
      "model_name": "ToolbarModel",
      "state": {
       "collapsed": true,
       "layout": "IPY_MODEL_c7eff200c38045569b9c370939457c37",
       "orientation": "vertical",
       "toolitems": [
        [
         "Home",
         "Reset original view",
         "home",
         "home"
        ],
        [
         "Back",
         "Back to previous view",
         "arrow-left",
         "back"
        ],
        [
         "Forward",
         "Forward to next view",
         "arrow-right",
         "forward"
        ],
        [
         "Pan",
         "Left button pans, Right button zooms\nx/y fixes axis, CTRL fixes aspect",
         "arrows",
         "pan"
        ],
        [
         "Zoom",
         "Zoom to rectangle\nx/y fixes axis, CTRL fixes aspect",
         "square-o",
         "zoom"
        ],
        [
         "Download",
         "Download plot",
         "floppy-o",
         "save_figure"
        ]
       ]
      }
     },
     "8db1791640424fafa0e00048fa14efa5": {
      "model_module": "@jupyter-widgets/controls",
      "model_module_version": "1.5.0",
      "model_name": "DescriptionStyleModel",
      "state": {
       "description_width": ""
      }
     },
     "8fcce44b3c6b4e049b2734d7750254d9": {
      "model_module": "@jupyter-widgets/base",
      "model_module_version": "1.2.0",
      "model_name": "LayoutModel",
      "state": {}
     },
     "908bd4639f8d454caa725556757db1f4": {
      "model_module": "@jupyter-widgets/controls",
      "model_module_version": "1.5.0",
      "model_name": "FloatProgressModel",
      "state": {
       "bar_style": "success",
       "layout": "IPY_MODEL_ee29b300e1914ac1940165f29184b923",
       "max": 2360,
       "style": "IPY_MODEL_a91cf7996d214ca0bf6c13c0c7526f5b",
       "value": 2360
      }
     },
     "948a0a608a034f9bb89b08f7cae7de17": {
      "model_module": "@jupyter-widgets/controls",
      "model_module_version": "1.5.0",
      "model_name": "DescriptionStyleModel",
      "state": {
       "description_width": ""
      }
     },
     "977db4e03edb429ca926ab243e6b5566": {
      "model_module": "@jupyter-widgets/base",
      "model_module_version": "1.2.0",
      "model_name": "LayoutModel",
      "state": {}
     },
     "98d1926c40194f429fb03a137cd0914f": {
      "model_module": "@jupyter-widgets/base",
      "model_module_version": "1.2.0",
      "model_name": "LayoutModel",
      "state": {}
     },
     "99860991d2084236a14665e60ac8c5a3": {
      "model_module": "@jupyter-widgets/controls",
      "model_module_version": "1.5.0",
      "model_name": "FloatProgressModel",
      "state": {
       "bar_style": "success",
       "layout": "IPY_MODEL_b3e5f6caae9d4d6aacdea6a1f5c0630f",
       "max": 2360,
       "style": "IPY_MODEL_6aba26d0e4f64ae3af634ef0502088fc",
       "value": 2360
      }
     },
     "9cef4dc721e24aeba589f5389850ad13": {
      "model_module": "jupyter-matplotlib",
      "model_module_version": "^0.10.5",
      "model_name": "ToolbarModel",
      "state": {
       "collapsed": true,
       "layout": "IPY_MODEL_ebc6268fc0764544ac226f0fe881477e",
       "orientation": "vertical",
       "toolitems": [
        [
         "Home",
         "Reset original view",
         "home",
         "home"
        ],
        [
         "Back",
         "Back to previous view",
         "arrow-left",
         "back"
        ],
        [
         "Forward",
         "Forward to next view",
         "arrow-right",
         "forward"
        ],
        [
         "Pan",
         "Left button pans, Right button zooms\nx/y fixes axis, CTRL fixes aspect",
         "arrows",
         "pan"
        ],
        [
         "Zoom",
         "Zoom to rectangle\nx/y fixes axis, CTRL fixes aspect",
         "square-o",
         "zoom"
        ],
        [
         "Download",
         "Download plot",
         "floppy-o",
         "save_figure"
        ]
       ]
      }
     },
     "9d23211bdb88476ebdad74f08b4d5f76": {
      "model_module": "@jupyter-widgets/controls",
      "model_module_version": "1.5.0",
      "model_name": "ProgressStyleModel",
      "state": {
       "description_width": ""
      }
     },
     "9dda2a58ece04981bcf96cc28caaf721": {
      "model_module": "@jupyter-widgets/controls",
      "model_module_version": "1.5.0",
      "model_name": "DescriptionStyleModel",
      "state": {
       "description_width": ""
      }
     },
     "a157b43136304973bd3f937baa39c386": {
      "model_module": "@jupyter-widgets/controls",
      "model_module_version": "1.5.0",
      "model_name": "FloatProgressModel",
      "state": {
       "bar_style": "success",
       "layout": "IPY_MODEL_8fcce44b3c6b4e049b2734d7750254d9",
       "max": 4779,
       "style": "IPY_MODEL_9d23211bdb88476ebdad74f08b4d5f76",
       "value": 4779
      }
     },
     "a35a95f3f90a4fe894cd30e711fb5b19": {
      "model_module": "@jupyter-widgets/controls",
      "model_module_version": "1.5.0",
      "model_name": "HBoxModel",
      "state": {
       "children": [
        "IPY_MODEL_ef1c20148f9944a29a5e43973dd1a195",
        "IPY_MODEL_06970e1df8b541a88c74ec8ad384cd8b",
        "IPY_MODEL_51622867a5534e4f8c82f7e3a9b79afd"
       ],
       "layout": "IPY_MODEL_81118a8f778a4f3db53e57e974e61d1f"
      }
     },
     "a573039a504945dda406d9d1f715ffaa": {
      "model_module": "jupyter-matplotlib",
      "model_module_version": "^0.10.5",
      "model_name": "ToolbarModel",
      "state": {
       "collapsed": true,
       "layout": "IPY_MODEL_977db4e03edb429ca926ab243e6b5566",
       "orientation": "vertical",
       "toolitems": [
        [
         "Home",
         "Reset original view",
         "home",
         "home"
        ],
        [
         "Back",
         "Back to previous view",
         "arrow-left",
         "back"
        ],
        [
         "Forward",
         "Forward to next view",
         "arrow-right",
         "forward"
        ],
        [
         "Pan",
         "Left button pans, Right button zooms\nx/y fixes axis, CTRL fixes aspect",
         "arrows",
         "pan"
        ],
        [
         "Zoom",
         "Zoom to rectangle\nx/y fixes axis, CTRL fixes aspect",
         "square-o",
         "zoom"
        ],
        [
         "Download",
         "Download plot",
         "floppy-o",
         "save_figure"
        ]
       ]
      }
     },
     "a91cf7996d214ca0bf6c13c0c7526f5b": {
      "model_module": "@jupyter-widgets/controls",
      "model_module_version": "1.5.0",
      "model_name": "ProgressStyleModel",
      "state": {
       "description_width": ""
      }
     },
     "a97775f5ff8e4a8aba9dc6388b482917": {
      "model_module": "@jupyter-widgets/base",
      "model_module_version": "1.2.0",
      "model_name": "LayoutModel",
      "state": {}
     },
     "aaea5cc0ccf84a4d951ff62b50c497a6": {
      "model_module": "@jupyter-widgets/controls",
      "model_module_version": "1.5.0",
      "model_name": "HTMLModel",
      "state": {
       "layout": "IPY_MODEL_d9ac2517b5ea446b9a0291b4fbd21e61",
       "style": "IPY_MODEL_ed8c7dd53d7d4c5d9797cf23dda4dcbc",
       "value": " 4779/4779 [02:55&lt;00:00, 33.16it/s]"
      }
     },
     "aed905b4c49445d28f70663bfd0ccb57": {
      "model_module": "@jupyter-widgets/controls",
      "model_module_version": "1.5.0",
      "model_name": "ProgressStyleModel",
      "state": {
       "description_width": ""
      }
     },
     "b3e5f6caae9d4d6aacdea6a1f5c0630f": {
      "model_module": "@jupyter-widgets/base",
      "model_module_version": "1.2.0",
      "model_name": "LayoutModel",
      "state": {}
     },
     "b49580d73a1a411e90107ff8b09956db": {
      "model_module": "@jupyter-widgets/controls",
      "model_module_version": "1.5.0",
      "model_name": "DescriptionStyleModel",
      "state": {
       "description_width": ""
      }
     },
     "b7afaace4ece4734a483eb08716f3ed0": {
      "model_module": "@jupyter-widgets/controls",
      "model_module_version": "1.5.0",
      "model_name": "FloatProgressModel",
      "state": {
       "bar_style": "success",
       "layout": "IPY_MODEL_616133e297ce474b801289a7bee63f74",
       "max": 2419,
       "style": "IPY_MODEL_6517bead97064221af722a728d52500c",
       "value": 2419
      }
     },
     "c291f1a90f744796ab9ebbeb436837fa": {
      "model_module": "@jupyter-widgets/controls",
      "model_module_version": "1.5.0",
      "model_name": "DescriptionStyleModel",
      "state": {
       "description_width": ""
      }
     },
     "c53597f2f51146f59a112a7b9111d078": {
      "model_module": "@jupyter-widgets/controls",
      "model_module_version": "1.5.0",
      "model_name": "HBoxModel",
      "state": {
       "children": [
        "IPY_MODEL_308b541ba6ee47f095e458bb3aa47970",
        "IPY_MODEL_efbcda6889f8431b94067a5410f8bfd7",
        "IPY_MODEL_71c8dc79a81743ac83ebed277fbb747a"
       ],
       "layout": "IPY_MODEL_0c822cf1a56742b5a851d75f4cb16910"
      }
     },
     "c7eff200c38045569b9c370939457c37": {
      "model_module": "@jupyter-widgets/base",
      "model_module_version": "1.2.0",
      "model_name": "LayoutModel",
      "state": {}
     },
     "c7f5b0f19e5344ec9954628eae750081": {
      "model_module": "@jupyter-widgets/base",
      "model_module_version": "1.2.0",
      "model_name": "LayoutModel",
      "state": {}
     },
     "c8e57463f10140a49daf640a136bfedc": {
      "model_module": "jupyter-matplotlib",
      "model_module_version": "^0.10.5",
      "model_name": "ToolbarModel",
      "state": {
       "collapsed": true,
       "layout": "IPY_MODEL_ffb5bbec79e944e3969fa0a247b3ce9f",
       "orientation": "vertical",
       "toolitems": [
        [
         "Home",
         "Reset original view",
         "home",
         "home"
        ],
        [
         "Back",
         "Back to previous view",
         "arrow-left",
         "back"
        ],
        [
         "Forward",
         "Forward to next view",
         "arrow-right",
         "forward"
        ],
        [
         "Pan",
         "Left button pans, Right button zooms\nx/y fixes axis, CTRL fixes aspect",
         "arrows",
         "pan"
        ],
        [
         "Zoom",
         "Zoom to rectangle\nx/y fixes axis, CTRL fixes aspect",
         "square-o",
         "zoom"
        ],
        [
         "Download",
         "Download plot",
         "floppy-o",
         "save_figure"
        ]
       ]
      }
     },
     "cc0121abc3104001acef91e9122e0305": {
      "model_module": "jupyter-matplotlib",
      "model_module_version": "^0.10.5",
      "model_name": "ToolbarModel",
      "state": {
       "collapsed": true,
       "layout": "IPY_MODEL_f3ea523ebba04deca2e1f8fd1168f7d0",
       "orientation": "vertical",
       "toolitems": [
        [
         "Home",
         "Reset original view",
         "home",
         "home"
        ],
        [
         "Back",
         "Back to previous view",
         "arrow-left",
         "back"
        ],
        [
         "Forward",
         "Forward to next view",
         "arrow-right",
         "forward"
        ],
        [
         "Pan",
         "Left button pans, Right button zooms\nx/y fixes axis, CTRL fixes aspect",
         "arrows",
         "pan"
        ],
        [
         "Zoom",
         "Zoom to rectangle\nx/y fixes axis, CTRL fixes aspect",
         "square-o",
         "zoom"
        ],
        [
         "Download",
         "Download plot",
         "floppy-o",
         "save_figure"
        ]
       ]
      }
     },
     "cd9dfac85da148fea116a9cc72470da3": {
      "model_module": "@jupyter-widgets/base",
      "model_module_version": "1.2.0",
      "model_name": "LayoutModel",
      "state": {}
     },
     "cee669e092014af586498b2ee998e35a": {
      "model_module": "@jupyter-widgets/controls",
      "model_module_version": "1.5.0",
      "model_name": "HTMLModel",
      "state": {
       "layout": "IPY_MODEL_d14559ba00a64e1f932cee5c48f47a57",
       "style": "IPY_MODEL_9dda2a58ece04981bcf96cc28caaf721",
       "value": "Gaussian fitting: 100%"
      }
     },
     "d0ee5778600844789a531664ea78e2a2": {
      "model_module": "@jupyter-widgets/base",
      "model_module_version": "1.2.0",
      "model_name": "LayoutModel",
      "state": {}
     },
     "d14559ba00a64e1f932cee5c48f47a57": {
      "model_module": "@jupyter-widgets/base",
      "model_module_version": "1.2.0",
      "model_name": "LayoutModel",
      "state": {}
     },
     "d1dfb7ccd94347febeb229a2674f5195": {
      "model_module": "@jupyter-widgets/base",
      "model_module_version": "1.2.0",
      "model_name": "LayoutModel",
      "state": {}
     },
     "d3628a5a0f9643e0bfe240b62c76c069": {
      "model_module": "jupyter-matplotlib",
      "model_module_version": "^0.10.5",
      "model_name": "ToolbarModel",
      "state": {
       "collapsed": true,
       "layout": "IPY_MODEL_4c710fd296204878b75b5d05428d35e3",
       "orientation": "vertical",
       "toolitems": [
        [
         "Home",
         "Reset original view",
         "home",
         "home"
        ],
        [
         "Back",
         "Back to previous view",
         "arrow-left",
         "back"
        ],
        [
         "Forward",
         "Forward to next view",
         "arrow-right",
         "forward"
        ],
        [
         "Pan",
         "Left button pans, Right button zooms\nx/y fixes axis, CTRL fixes aspect",
         "arrows",
         "pan"
        ],
        [
         "Zoom",
         "Zoom to rectangle\nx/y fixes axis, CTRL fixes aspect",
         "square-o",
         "zoom"
        ],
        [
         "Download",
         "Download plot",
         "floppy-o",
         "save_figure"
        ]
       ]
      }
     },
     "d8b4817e2cdc400b94bc37c887a23c46": {
      "model_module": "@jupyter-widgets/base",
      "model_module_version": "1.2.0",
      "model_name": "LayoutModel",
      "state": {}
     },
     "d9ac2517b5ea446b9a0291b4fbd21e61": {
      "model_module": "@jupyter-widgets/base",
      "model_module_version": "1.2.0",
      "model_name": "LayoutModel",
      "state": {}
     },
     "dac47ecc911f40348e7d0325579a9679": {
      "model_module": "@jupyter-widgets/base",
      "model_module_version": "1.2.0",
      "model_name": "LayoutModel",
      "state": {}
     },
     "df9a58468b6747eaa56633b9eceafaa0": {
      "model_module": "@jupyter-widgets/controls",
      "model_module_version": "1.5.0",
      "model_name": "DescriptionStyleModel",
      "state": {
       "description_width": ""
      }
     },
     "ea6aed84407b4a63b6d94156d2917a7c": {
      "model_module": "@jupyter-widgets/controls",
      "model_module_version": "1.5.0",
      "model_name": "HBoxModel",
      "state": {
       "children": [
        "IPY_MODEL_7b156118a42840088551fa8573ec9915",
        "IPY_MODEL_99860991d2084236a14665e60ac8c5a3",
        "IPY_MODEL_260232d8e385490f807c530c564001ad"
       ],
       "layout": "IPY_MODEL_d0ee5778600844789a531664ea78e2a2"
      }
     },
     "ebc6268fc0764544ac226f0fe881477e": {
      "model_module": "@jupyter-widgets/base",
      "model_module_version": "1.2.0",
      "model_name": "LayoutModel",
      "state": {}
     },
     "ebefa0cfd4774bd7b1df498db72e42a2": {
      "model_module": "@jupyter-widgets/base",
      "model_module_version": "1.2.0",
      "model_name": "LayoutModel",
      "state": {}
     },
     "ed8c7dd53d7d4c5d9797cf23dda4dcbc": {
      "model_module": "@jupyter-widgets/controls",
      "model_module_version": "1.5.0",
      "model_name": "DescriptionStyleModel",
      "state": {
       "description_width": ""
      }
     },
     "ee29b300e1914ac1940165f29184b923": {
      "model_module": "@jupyter-widgets/base",
      "model_module_version": "1.2.0",
      "model_name": "LayoutModel",
      "state": {}
     },
     "ef1c20148f9944a29a5e43973dd1a195": {
      "model_module": "@jupyter-widgets/controls",
      "model_module_version": "1.5.0",
      "model_name": "HTMLModel",
      "state": {
       "layout": "IPY_MODEL_186ed55c493d4d59ab54da7c6dfd24a4",
       "style": "IPY_MODEL_813ce244646a400094d46ef294812fb3",
       "value": "Center of mass: 100%"
      }
     },
     "efbcda6889f8431b94067a5410f8bfd7": {
      "model_module": "@jupyter-widgets/controls",
      "model_module_version": "1.5.0",
      "model_name": "FloatProgressModel",
      "state": {
       "bar_style": "success",
       "layout": "IPY_MODEL_a97775f5ff8e4a8aba9dc6388b482917",
       "max": 2419,
       "style": "IPY_MODEL_2544a52e094a487c882fe39244357809",
       "value": 2419
      }
     },
     "f133e52ddc924c85967d5607b1997e4c": {
      "model_module": "@jupyter-widgets/base",
      "model_module_version": "1.2.0",
      "model_name": "LayoutModel",
      "state": {
       "width": "500px"
      }
     },
     "f3ea523ebba04deca2e1f8fd1168f7d0": {
      "model_module": "@jupyter-widgets/base",
      "model_module_version": "1.2.0",
      "model_name": "LayoutModel",
      "state": {}
     },
     "f5e08b15f7494189a1629e2b83827e43": {
      "model_module": "jupyter-matplotlib",
      "model_module_version": "^0.10.5",
      "model_name": "ToolbarModel",
      "state": {
       "collapsed": true,
       "layout": "IPY_MODEL_d1dfb7ccd94347febeb229a2674f5195",
       "orientation": "vertical",
       "toolitems": [
        [
         "Home",
         "Reset original view",
         "home",
         "home"
        ],
        [
         "Back",
         "Back to previous view",
         "arrow-left",
         "back"
        ],
        [
         "Forward",
         "Forward to next view",
         "arrow-right",
         "forward"
        ],
        [
         "Pan",
         "Left button pans, Right button zooms\nx/y fixes axis, CTRL fixes aspect",
         "arrows",
         "pan"
        ],
        [
         "Zoom",
         "Zoom to rectangle\nx/y fixes axis, CTRL fixes aspect",
         "square-o",
         "zoom"
        ],
        [
         "Download",
         "Download plot",
         "floppy-o",
         "save_figure"
        ]
       ]
      }
     },
     "fa4da00a8d0c4272b2a3f6f52c9bfa0d": {
      "model_module": "@jupyter-widgets/base",
      "model_module_version": "1.2.0",
      "model_name": "LayoutModel",
      "state": {}
     },
     "fc0e5f188a6d4ed4ad1def53509a08c5": {
      "model_module": "@jupyter-widgets/base",
      "model_module_version": "1.2.0",
      "model_name": "LayoutModel",
      "state": {}
     },
     "fe7b2be0775c45fba2d723c251457d3e": {
      "model_module": "@jupyter-widgets/base",
      "model_module_version": "1.2.0",
      "model_name": "LayoutModel",
      "state": {}
     },
     "ff9517838e914552818971971daad7b7": {
      "model_module": "@jupyter-widgets/controls",
      "model_module_version": "1.5.0",
      "model_name": "HTMLModel",
      "state": {
       "layout": "IPY_MODEL_1629cb71384e49c096b2b0d921b85ce1",
       "style": "IPY_MODEL_df9a58468b6747eaa56633b9eceafaa0",
       "value": " 2419/2419 [00:00&lt;00:00, 7194.20it/s]"
      }
     },
     "ffb5bbec79e944e3969fa0a247b3ce9f": {
      "model_module": "@jupyter-widgets/base",
      "model_module_version": "1.2.0",
      "model_name": "LayoutModel",
      "state": {}
     }
    },
    "version_major": 2,
    "version_minor": 0
   }
  }
 },
 "nbformat": 4,
 "nbformat_minor": 5
}
