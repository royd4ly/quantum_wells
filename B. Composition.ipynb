{
 "cells": [
  {
   "cell_type": "markdown",
   "id": "f991929c",
   "metadata": {},
   "source": [
    "# Import the required libraries <a class=\"anchor\" id=\"import_libraries\"></a>"
   ]
  },
  {
   "cell_type": "code",
   "execution_count": null,
   "id": "b636377f",
   "metadata": {},
   "outputs": [],
   "source": [
    "%matplotlib widget\n",
    "import hyperspy.api as hs\n",
    "import numpy as np\n",
    "import matplotlib.pyplot as plt\n",
    "import atomap.api as am\n",
    "hs.preferences.GUIs.warn_if_guis_are_missing = False\n",
    "hs.preferences.save()\n",
    "plt.rcParams['figure.figsize'] = (7,7)"
   ]
  },
  {
   "cell_type": "markdown",
   "id": "dc291961",
   "metadata": {},
   "source": [
    "# Intensity Maps <a class=\"anchor\" id=\"intensity_maps\"></a>\n",
    "\n",
    "First, we load the atom lattice:"
   ]
  },
  {
   "cell_type": "code",
   "execution_count": null,
   "id": "f6358ef8",
   "metadata": {},
   "outputs": [],
   "source": [
    "atom_lattice = am.load_atom_lattice_from_hdf5('atom_lattice_qw.hdf5')\n",
    "s=hs.load('data.hspy')\n",
    "sublattice_A=atom_lattice.sublattice_list[0]\n",
    "sublattice_B=atom_lattice.sublattice_list[1]"
   ]
  },
  {
   "cell_type": "markdown",
   "id": "765d787e",
   "metadata": {},
   "source": [
    "Starting with the sublattice A, it is necessary to construct a 2D array with the intensities of every atom column in this sublattice. Therefore, we need to select the required planes from a zone axis.\n",
    "\n",
    "Constructing the zone axes:"
   ]
  },
  {
   "cell_type": "code",
   "execution_count": null,
   "id": "3980ec90",
   "metadata": {},
   "outputs": [],
   "source": [
    "sublattice_A.construct_zone_axes(atom_plane_tolerance=0.8)"
   ]
  },
  {
   "cell_type": "markdown",
   "id": "3ca552f2",
   "metadata": {},
   "source": [
    "To select the optimal zone axis, the parameter **`direction`** is varied until the optimum is found."
   ]
  },
  {
   "cell_type": "code",
   "execution_count": null,
   "id": "9a419e4f",
   "metadata": {},
   "outputs": [],
   "source": [
    "direction=0\n",
    "\n",
    "zone_vector = sublattice_A.zones_axis_average_distances[direction]\n",
    "atom_planes = sublattice_A.atom_planes_by_zone_vector[zone_vector]\n",
    "zone_axis = sublattice_A.get_atom_planes_on_image(atom_planes)\n",
    "zone_axis.plot()\n",
    "ax = plt.gca()\n",
    "ax.get_xaxis().set_visible(False)\n",
    "ax.get_yaxis().set_visible(False)\n",
    "sublattice_A"
   ]
  },
  {
   "cell_type": "markdown",
   "id": "f3ee713a",
   "metadata": {},
   "source": [
    "Next, it is plotted the intensity of the atom columns in the sublattice A. We can select the required layers to plot with **`first_layer`** and **`last_layer`**."
   ]
  },
  {
   "cell_type": "code",
   "execution_count": null,
   "id": "b535c830",
   "metadata": {},
   "outputs": [],
   "source": [
    "first_layer = 0\n",
    "last_layer = 39\n",
    "\n",
    "sublattice_A.find_sublattice_intensity_from_masked_image(sublattice_A.image)\n",
    "zone_axis_A = sublattice_A.zones_axis_average_distances[direction]\n",
    "atom_plane_list_A = sublattice_A.atom_planes_by_zone_vector[zone_axis_A]\n",
    "intensity_A=[]\n",
    "x_values=[]\n",
    "y_values=[]\n",
    "for i in range(first_layer, last_layer+1):\n",
    "    atomplane=atom_plane_list_A[i]\n",
    "    plane_intensity=[]\n",
    "    x_values_plane=[]\n",
    "    y_values_plane=[]\n",
    "    for j in range(0, len(atomplane.atom_list)):\n",
    "        atom=atomplane.atom_list[j]\n",
    "        x_pos,y_pos=atom.get_pixel_position()\n",
    "        intensity=atom.intensity_mask\n",
    "        plane_intensity.append(intensity)\n",
    "        x_values_plane.append(x_pos)\n",
    "        y_values_plane.append(y_pos)\n",
    "    intensity_A.append(plane_intensity)\n",
    "    x_values.append(x_values_plane)\n",
    "    y_values.append(y_values_plane)\n",
    "\n",
    "intensity_A_array = np.zeros([len(intensity_A),len(max(intensity_A,key = lambda x: len(x)))])\n",
    "intensity_A_array[:] = np.nan\n",
    "for i,j in enumerate(intensity_A):\n",
    "    intensity_A_array[i][0:len(j)] = j\n",
    "\n",
    "x_values_array = np.zeros([len(x_values),len(max(x_values,key = lambda x: len(x)))])\n",
    "x_values_array[:] = np.nan\n",
    "for i,j in enumerate(x_values):\n",
    "    x_values_array[i][0:len(j)] = j\n",
    "\n",
    "y_values_array = np.zeros([len(y_values),len(max(y_values,key = lambda x: len(x)))])\n",
    "y_values_array[:] = np.nan\n",
    "for i,j in enumerate(y_values):\n",
    "    y_values_array[i][0:len(j)] = j\n",
    "    \n",
    "intensity_A=np.stack((intensity_A_array,x_values_array,y_values_array),axis=2)\n",
    "np.save('intensity_A.npy',intensity_A)"
   ]
  },
  {
   "cell_type": "markdown",
   "id": "bd9db122",
   "metadata": {},
   "source": [
    "The circles represent the atom columns of the sublattice A at their respective positions. But the circle sizes are not the same as the atom column sizes due to the splitting into two sublattices.\n",
    ">Uncomment **`plt.imshow(s.data,cmap='gray')`** to additionally plot the original image."
   ]
  },
  {
   "cell_type": "code",
   "execution_count": null,
   "id": "86edc0ef",
   "metadata": {},
   "outputs": [],
   "source": [
    "plt.figure()\n",
    "plt.scatter(intensity_A[:,:,1],intensity_A[:,:,2],s=20,c=intensity_A[:,:,0])\n",
    "plt.colorbar()\n",
    "plt.axis('scaled')\n",
    "plt.axis('off')\n",
    "ax=plt.gca()\n",
    "ax.set_ylim(ax.get_ylim()[::-1]) \n",
    "ax.xaxis.tick_top() \n",
    "ax.yaxis.tick_left()\n",
    "# plt.imshow(s.data,cmap='gray')\n",
    "plt.tight_layout()\n",
    "plt.show()\n",
    "plt.savefig('intensitymap_sublatticeA.png',dpi=300,transparent=True,bbox_inches='tight')"
   ]
  },
  {
   "cell_type": "markdown",
   "id": "ca9ae352",
   "metadata": {},
   "source": [
    "For the sublattice B, the same process is followed.\n",
    "\n",
    "Constructing the zone axes:"
   ]
  },
  {
   "cell_type": "code",
   "execution_count": null,
   "id": "198bd40d",
   "metadata": {},
   "outputs": [],
   "source": [
    "sublattice_B.construct_zone_axes(atom_plane_tolerance=0.8)"
   ]
  },
  {
   "cell_type": "markdown",
   "id": "c810ee12",
   "metadata": {},
   "source": [
    "Selecting the optimal zone axis:"
   ]
  },
  {
   "cell_type": "code",
   "execution_count": null,
   "id": "e0d20f48",
   "metadata": {},
   "outputs": [],
   "source": [
    "direction=0\n",
    "\n",
    "zone_vector = sublattice_B.zones_axis_average_distances[direction]\n",
    "atom_planes = sublattice_B.atom_planes_by_zone_vector[zone_vector]\n",
    "zone_axis = sublattice_B.get_atom_planes_on_image(atom_planes)\n",
    "zone_axis.plot()\n",
    "ax = plt.gca()\n",
    "ax.get_xaxis().set_visible(False)\n",
    "ax.get_yaxis().set_visible(False)\n",
    "sublattice_B"
   ]
  },
  {
   "cell_type": "markdown",
   "id": "742ad940",
   "metadata": {},
   "source": [
    "Selecting the required layers:"
   ]
  },
  {
   "cell_type": "code",
   "execution_count": null,
   "id": "0b3a97e4",
   "metadata": {},
   "outputs": [],
   "source": [
    "first_layer = 0\n",
    "last_layer = 39\n",
    "\n",
    "sublattice_B.find_sublattice_intensity_from_masked_image(sublattice_B.image)\n",
    "zone_axis_B = sublattice_B.zones_axis_average_distances[direction]\n",
    "atom_plane_list_B = sublattice_B.atom_planes_by_zone_vector[zone_axis_B]\n",
    "intensity_B=[]\n",
    "x_values=[]\n",
    "y_values=[]\n",
    "for i in range(first_layer, last_layer+1):\n",
    "    atomplane=atom_plane_list_B[i]\n",
    "    plane_intensity=[]\n",
    "    x_values_plane=[]\n",
    "    y_values_plane=[]\n",
    "    for j in range(0, len(atomplane.atom_list)):\n",
    "        atom=atomplane.atom_list[j]\n",
    "        x_pos,y_pos=atom.get_pixel_position()\n",
    "        intensity=atom.intensity_mask\n",
    "        plane_intensity.append(intensity)\n",
    "        x_values_plane.append(x_pos)\n",
    "        y_values_plane.append(y_pos)\n",
    "    intensity_B.append(plane_intensity)\n",
    "    x_values.append(x_values_plane)\n",
    "    y_values.append(y_values_plane)\n",
    "\n",
    "intensity_B_array = np.zeros([len(intensity_B),len(max(intensity_B,key = lambda x: len(x)))])\n",
    "intensity_B_array[:] = np.nan\n",
    "for i,j in enumerate(intensity_B):\n",
    "    intensity_B_array[i][0:len(j)] = j\n",
    "\n",
    "x_values_array = np.zeros([len(x_values),len(max(x_values,key = lambda x: len(x)))])\n",
    "x_values_array[:] = np.nan\n",
    "for i,j in enumerate(x_values):\n",
    "    x_values_array[i][0:len(j)] = j\n",
    "\n",
    "y_values_array = np.zeros([len(y_values),len(max(y_values,key = lambda x: len(x)))])\n",
    "y_values_array[:] = np.nan\n",
    "for i,j in enumerate(y_values):\n",
    "    y_values_array[i][0:len(j)] = j\n",
    "    \n",
    "intensity_B=np.stack((intensity_B_array,x_values_array,y_values_array),axis=2)\n",
    "np.save('intensity_B.npy',intensity_B)"
   ]
  },
  {
   "cell_type": "markdown",
   "id": "4880d5c8",
   "metadata": {},
   "source": [
    "Plotting the intensity map of the sublattice B:\n",
    ">Uncomment **`plt.imshow(s.data,cmap='gray')`** to additionally plot the original image."
   ]
  },
  {
   "cell_type": "code",
   "execution_count": null,
   "id": "f7aacb92",
   "metadata": {},
   "outputs": [],
   "source": [
    "plt.figure()\n",
    "plt.scatter(intensity_B[:,:,1],intensity_B[:,:,2],s=20,c=intensity_B[:,:,0])\n",
    "plt.colorbar()\n",
    "plt.axis('scaled')\n",
    "plt.axis('off')\n",
    "ax=plt.gca()\n",
    "ax.set_ylim(ax.get_ylim()[::-1]) \n",
    "ax.xaxis.tick_top() \n",
    "ax.yaxis.tick_left()\n",
    "# plt.imshow(s.data,cmap='gray')\n",
    "plt.tight_layout()\n",
    "plt.show()\n",
    "plt.savefig('intensitymap_sublatticeB.png',dpi=300,transparent=True,bbox_inches='tight')"
   ]
  },
  {
   "cell_type": "markdown",
   "id": "75935d70-7f6c-459b-a6c8-e097f9309868",
   "metadata": {
    "tags": []
   },
   "source": [
    "## Thickness compensation <a class=\"anchor\" id=\"thickness_compensation\"></a>\n",
    "\n",
    "If the quantum well has only one element in a sublattice, we can use it to perform thickness compensation (for the other sublattice). It is mandatory that the two sublattices have the same dimensions because the 2D array of the group III sublattice will be divided element-by-element by the normalized 2D array of the group V sublattice.\n",
    "\n",
    "$$I_{comp_{i,j}}=\\frac{I_{gIII_{i,j}}}{I_{gVnorm_{i,j}}}$$\n",
    "> **`group_III_sublattice`** and **`group_V_sublattice`** must be selected between **`intensity_A`** and **`intensity_B`**.\n",
    "<br>\n",
    ">Uncomment **`plt.imshow(s.data,cmap='gray')`** to additionally plot the original image."
   ]
  },
  {
   "cell_type": "code",
   "execution_count": null,
   "id": "cb7e5a65-77e3-463e-9dbd-971216ca12c2",
   "metadata": {},
   "outputs": [],
   "source": [
    "group_III_sublattice=np.copy(intensity_A)\n",
    "group_V_sublattice=np.copy(intensity_B)\n",
    "\n",
    "from atomap.atom_finding_refining import normalize_signal\n",
    "normalized_V = normalize_signal(hs.signals.Signal2D(group_V_sublattice[:,:,0]))\n",
    "compensated_III=np.divide(group_III_sublattice[:,:,0],normalized_V.data)\n",
    "group_III_sublattice[:,:,0]=np.copy(compensated_III)\n",
    "plt.figure()\n",
    "plt.scatter(group_III_sublattice[:,:,1],group_III_sublattice[:,:,2],s=20,c=group_III_sublattice[:,:,0])\n",
    "plt.colorbar()\n",
    "plt.axis('scaled')\n",
    "plt.axis('off')\n",
    "ax=plt.gca()\n",
    "ax.set_ylim(ax.get_ylim()[::-1]) \n",
    "ax.xaxis.tick_top() \n",
    "ax.yaxis.tick_left()\n",
    "# plt.imshow(s.data,cmap='gray')\n",
    "plt.tight_layout()\n",
    "plt.show()\n",
    "plt.savefig('intensitymap_groupIII_compensated.png',dpi=300,transparent=True,bbox_inches='tight')\n",
    "np.save('group_III_sublattice_comp.npy',group_III_sublattice)\n",
    "np.save('group_V_sublattice.npy',group_V_sublattice)"
   ]
  },
  {
   "cell_type": "markdown",
   "id": "cabf4c53",
   "metadata": {},
   "source": [
    "## Composition maps <a class=\"anchor\" id=\"composition_maps\"></a>\n",
    "\n",
    "The composition map of the segregated element present in the sublattice III is very similar to the intensity map, since to obtain it, the intensity map must be normalized according to the nominal composition of the element.\n",
    "\n",
    "To obtain the composition map, the average intensities of two reference regions (the quantum well and the barriers) are calculated. Then, the intensity map is normalized with these two values and the nominal composition $x_0$ (Han et al., 2015):\n",
    "\n",
    "$$x=\\frac{x_0(I_{exp}-I_{Ga})}{I_{GaIn}-I_{Ga}}$$\n",
    "\n",
    "First, we select the **`required_sublattice`**:"
   ]
  },
  {
   "cell_type": "code",
   "execution_count": null,
   "id": "8043ad08",
   "metadata": {},
   "outputs": [],
   "source": [
    "required_sublattice=np.copy(group_III_sublattice)"
   ]
  },
  {
   "cell_type": "markdown",
   "id": "a00cae12-638f-4ddd-bec1-a155eefd54e7",
   "metadata": {},
   "source": [
    "To get the average intensities, we select the upper and lower limit using the histogram of the average intensity plot:"
   ]
  },
  {
   "cell_type": "code",
   "execution_count": null,
   "id": "8ff34b3b-904e-414e-a140-b449d3402a44",
   "metadata": {},
   "outputs": [],
   "source": [
    "avg_i=np.mean(required_sublattice[:,:,0],axis=0)\n",
    "avg_ax=np.mean(required_sublattice[:,:,1],axis=0)*s.axes_manager[0].scale\n",
    "\n",
    "from scipy.stats import binned_statistic\n",
    "from scipy.signal import find_peaks\n",
    "count_binned=binned_statistic(avg_i,avg_i, 'count', bins=10)\n",
    "bin_centers=(count_binned[1][1:] + count_binned[1][:-1])/2\n",
    "mean_binned=binned_statistic(avg_i,avg_i, 'mean', bins=10)\n",
    "pos_peaks, _ = find_peaks(count_binned[0], height=0)\n",
    "pos_peaks_sorted=pos_peaks[np.argsort(count_binned[0][pos_peaks])]\n",
    "peaks_sorted=mean_binned[0][pos_peaks_sorted]\n",
    "max1,max2=np.sort(peaks_sorted[-2::])\n",
    "max1_pos,max2_pos=np.where(mean_binned[0] == max1)[0],np.where(mean_binned[0] == max2)[0]\n",
    "lower_limit=count_binned[1][max1_pos+1]\n",
    "upper_limit=count_binned[1][max2_pos]\n",
    "\n",
    "fig, (ax1, ax2) = plt.subplots(2, 1)\n",
    "ax1.plot(avg_ax,avg_i,'*')\n",
    "ax1.set(xlabel='Position ['+s.axes_manager[0].units+']',ylabel='Average intensity')\n",
    "label1='Lower limit: %.5f' % (lower_limit)\n",
    "label2='Upper limit: %.5f' % (upper_limit)\n",
    "ax1.plot(avg_ax,[lower_limit]*len(avg_i),linestyle='--',color='red',alpha=0.5,label=label1)\n",
    "ax1.plot(avg_ax,[upper_limit]*len(avg_i),linestyle='--',color='orange',alpha=0.5,label=label2)\n",
    "ax1.legend()\n",
    "_, _, patches = ax2.hist(avg_i,bins=count_binned[1],color='lightblue')\n",
    "for i in (np.where(np.arange(0,len(patches))<=max1_pos))[0]:\n",
    "    patches[int(i)].set_fc('lightcoral')\n",
    "for i in (np.where(np.arange(0,len(patches))>=max2_pos))[0]:\n",
    "    patches[int(i)].set_fc('lightsalmon')\n",
    "ax2.plot(bin_centers,count_binned[0],'*--')\n",
    "ax2.plot(bin_centers[pos_peaks], count_binned[0][pos_peaks], 'D',color='gray')\n",
    "ax2.set(xlabel='Average intensity',ylabel='Histogram (Count)')\n",
    "fig.tight_layout()\n",
    "plt.show()\n",
    "\n",
    "positions_l=np.where(avg_i<lower_limit)\n",
    "i_barriers=np.nanmean(avg_i[positions_l])\n",
    "positions_u=np.where(avg_i>upper_limit)\n",
    "i_quantum_well=np.nanmean(avg_i[positions_u])\n",
    "print('Mean intensity of the barriers: '+str(i_barriers))\n",
    "print('Mean intensity of the quantum well: '+str(i_quantum_well))"
   ]
  },
  {
   "cell_type": "markdown",
   "id": "85ea9efd",
   "metadata": {},
   "source": [
    "Finally, we can obtain the composition map using the **`nominal_composition`**:"
   ]
  },
  {
   "cell_type": "code",
   "execution_count": null,
   "id": "01562900",
   "metadata": {},
   "outputs": [],
   "source": [
    "nominal_composition=0.28\n",
    "\n",
    "composition_map=np.copy(required_sublattice)\n",
    "composition_map[:,:,0]=nominal_composition*(required_sublattice[:,:,0]-i_barriers)/(i_quantum_well-i_barriers)\n",
    "plt.figure()\n",
    "plt.scatter(composition_map[:,:,1],composition_map[:,:,2],s=20,c=composition_map[:,:,0])\n",
    "plt.colorbar()\n",
    "plt.axis('scaled')\n",
    "plt.axis('off')\n",
    "ax=plt.gca()\n",
    "ax.set_ylim(ax.get_ylim()[::-1]) \n",
    "ax.xaxis.tick_top() \n",
    "ax.yaxis.tick_left()\n",
    "#plt.imshow(s.data,cmap='gray')\n",
    "plt.tight_layout()\n",
    "plt.show()\n",
    "plt.savefig('composition_map.png',dpi=300,transparent=True,bbox_inches='tight')\n",
    "np.save('composition_map.npy',composition_map)"
   ]
  },
  {
   "cell_type": "markdown",
   "id": "666d1ecc",
   "metadata": {},
   "source": [
    "## Composition profile <a class=\"anchor\" id=\"composition_profile\"></a>\n",
    "\n",
    "In addition to the composition map, we can average the perpendicular layers to the growth direction in order to get the composition profile:"
   ]
  },
  {
   "cell_type": "code",
   "execution_count": null,
   "id": "5a836f6d",
   "metadata": {},
   "outputs": [],
   "source": [
    "avg_intensity=np.mean(composition_map[:,:,0],axis=0)\n",
    "avg_axis=np.mean(composition_map[:,:,1],axis=0)*s.axes_manager[0].scale\n",
    "plt.figure()\n",
    "plt.plot(avg_axis,avg_intensity,'*',linestyle='--')\n",
    "plt.xlabel('Position ['+s.axes_manager[0].units+']')\n",
    "plt.ylabel('Average composition')\n",
    "plt.show()"
   ]
  },
  {
   "cell_type": "markdown",
   "id": "4991db4f-adb3-4924-899f-e48dbc56c89a",
   "metadata": {},
   "source": [
    "---\n",
    "\n",
    "Han, H., Beyer, A., Jandieri, K., Gries, K. I., Duschek, L., Stolz, W., &amp; Volz, K. (2015). Quantitative characterization of the interface roughness of (GaIn)As quantum wells by high resolution stem. Micron, 79, 1–7. https://doi.org/10.1016/j.micron.2015.07.003 "
   ]
  }
 ],
 "metadata": {
  "kernelspec": {
   "display_name": "Python 3 (ipykernel)",
   "language": "python",
   "name": "python3"
  },
  "language_info": {
   "codemirror_mode": {
    "name": "ipython",
    "version": 3
   },
   "file_extension": ".py",
   "mimetype": "text/x-python",
   "name": "python",
   "nbconvert_exporter": "python",
   "pygments_lexer": "ipython3",
   "version": "3.9.12"
  },
  "toc-autonumbering": false,
  "toc-showcode": false,
  "toc-showmarkdowntxt": false,
  "toc-showtags": false,
  "widgets": {
   "application/vnd.jupyter.widget-state+json": {
    "state": {},
    "version_major": 2,
    "version_minor": 0
   }
  }
 },
 "nbformat": 4,
 "nbformat_minor": 5
}
